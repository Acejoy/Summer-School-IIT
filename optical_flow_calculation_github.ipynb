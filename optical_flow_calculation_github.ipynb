{
 "cells": [
  {
   "cell_type": "code",
   "execution_count": 1,
   "metadata": {},
   "outputs": [],
   "source": [
    "#erikgaas/lucasKanadePytorch github\n",
    "\n",
    "\n",
    "import torch\n",
    "from torch.autograd import Variable as V\n",
    "from torch import Tensor as T\n",
    "import numpy as np\n",
    "import torch.nn.functional as F\n",
    "\n",
    "def VT(x): return V(T(x), requires_grad=False)\n",
    "\n",
    "def three_conv(dx,dy,dz,dt, fac=1):\n",
    "    #Factor for adding that single minus on the dt conv\n",
    "    conv = torch.nn.Conv3d(1,4,2)\n",
    "    conv.weight = torch.nn.Parameter(T(np.concatenate([dx,dy,dz,fac * dt], axis=0)))\n",
    "    conv.bias = torch.nn.Parameter(T(np.array([0,0,0,0])))\n",
    "    return conv\n",
    "\n",
    "def img_derivatives(img1, img2):\n",
    "    ones = np.ones((2,2,2))\n",
    "    dx = (0.25 * ones * np.array([-1, 1]))[None,None,...]\n",
    "    dy = (0.25 * ones * np.array([-1, 1])[:, None])[None,None,...]\n",
    "    dz = 0.25 * np.stack([-np.ones((2,2)), np.ones((2,2))])[None,None,...]\n",
    "    dt = ones[None, None,...]\n",
    "    \n",
    "    conv1 = three_conv(dx,dy,dz,dt)\n",
    "    conv2 = three_conv(dx,dy,dz,dt, fac=-1)\n",
    "    res =  0.5 * (conv1(VT(img1[None,...])) + conv2(VT(img2[None,...])))[0]\n",
    "    #Returns a 4,50,50,50 for the 4 derivatives including time\n",
    "    return F.pad(res, (1,0,1,0,1,0))\n",
    "\n",
    "def opt_flow(dimg, r=2):\n",
    "    d = dimg.shape[-1]\n",
    "    x = np.ones((1,1,2,2,2))\n",
    "    calc = (dimg[None, 0:3,  ...] * dimg[:,None, ...])\n",
    "    conv_next = torch.nn.Conv3d(3,3,2)\n",
    "    conv_next.weight = torch.nn.Parameter(T(x))\n",
    "    conv_next.bias = torch.nn.Parameter(T(np.array([0])))\n",
    "    \n",
    "    sum_conv = torch.cat([conv_next(i[:,None,...]) for i in torch.unbind(calc, 1)], 1)\n",
    "    dim = sum_conv.shape[-1]\n",
    "    \n",
    "    a = sum_conv\n",
    "    b = a.permute(2, 3, 4, 0, 1)\n",
    "    c = b[..., :-1, :].contiguous().view(-1, 3, 3)\n",
    "    d = b[..., -1, :].contiguous().view(-1, 3, 1)\n",
    "\n",
    "    inv = torch.stack([mat.inverse() for mat in torch.unbind(c, 0)])\n",
    "    out = torch.bmm(inv, d)\n",
    "    out = out.transpose(0,1).contiguous().view(3,dim,dim,dim)\n",
    "    return out\n",
    "\n"
   ]
  },
  {
   "cell_type": "code",
   "execution_count": null,
   "metadata": {},
   "outputs": [],
   "source": [
    "frameset_path = r'C:\\Users\\Legion\\Desktop\\Internship_IIT\\UCSD_Anomaly_Dataset.v1p2\\UCSDped2\\Test\\Test001'\n",
    "list_frames_name = os.listdir(frameset_path)\n",
    "\n",
    "if '._.DS_Store' in list_frames_name:\n",
    "    list_frames_name.remove('._.DS_Store')\n",
    "    \n",
    "if '.DS_Store' in list_frames_name:\n",
    "    list_frames_name.remove('.DS_Store')\n",
    "    \n",
    "    \n",
    "data = []\n",
    "\n"
   ]
  }
 ],
 "metadata": {
  "kernelspec": {
   "display_name": "Python 3",
   "language": "python",
   "name": "python3"
  },
  "language_info": {
   "codemirror_mode": {
    "name": "ipython",
    "version": 3
   },
   "file_extension": ".py",
   "mimetype": "text/x-python",
   "name": "python",
   "nbconvert_exporter": "python",
   "pygments_lexer": "ipython3",
   "version": "3.6.7"
  }
 },
 "nbformat": 4,
 "nbformat_minor": 2
}
