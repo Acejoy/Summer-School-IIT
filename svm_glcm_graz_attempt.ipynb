{
 "cells": [
  {
   "cell_type": "code",
   "execution_count": 1,
   "metadata": {},
   "outputs": [],
   "source": [
    "import os\n",
    "import cv2\n",
    "import re\n",
    "import numpy as np\n",
    "from scipy import misc\n",
    "from sklearn.svm import SVC\n",
    "from sklearn import metrics\n",
    "import matplotlib.pyplot as plt\n",
    "from skimage.feature import greycomatrix,greycoprops\n",
    "from sklearn.model_selection import train_test_split\n",
    "from sklearn.metrics import classification_report,confusion_matrix"
   ]
  },
  {
   "cell_type": "code",
   "execution_count": 7,
   "metadata": {},
   "outputs": [
    {
     "name": "stderr",
     "output_type": "stream",
     "text": [
      "C:\\Users\\Legion\\Anaconda3\\lib\\site-packages\\ipykernel_launcher.py:16: DeprecationWarning: `imread` is deprecated!\n",
      "`imread` is deprecated in SciPy 1.0.0, and will be removed in 1.2.0.\n",
      "Use ``imageio.imread`` instead.\n",
      "  app.launch_new_instance()\n"
     ]
    }
   ],
   "source": [
    "#reading extracted features into X and labels into Y\n",
    "\n",
    "#empty numpy float 64\n",
    "#X=np.empty([833,5],dtype=np.float64)\n",
    "#Y=np.empty([833,1],dtype=int)\n",
    "X=[]\n",
    "Y=[]\n",
    "\n",
    "main_folder_path=r'C:\\Users\\Legion\\Desktop\\Internship_IIT\\GRAZ'\n",
    "segments=[r'bikes\\bikes',r'persons\\persons']\n",
    "\n",
    "for seg in segments:\n",
    "    absolute_path=os.path.join(main_folder_path,seg)\n",
    "    \n",
    "    for image_name in os.listdir(absolute_path):\n",
    "        original__grey_image=misc.imread(os.path.join(absolute_path,image_name),mode='L')\n",
    "        \n",
    "        #inserting label \n",
    "        #bike's label is 0\n",
    "        #person's label is 1\n",
    "        z=re.match(\"^bike.\",image_name)\n",
    "        if z:\n",
    "            Y.append(0)\n",
    "        else:\n",
    "            Y.append(1)\n",
    "            \n",
    "        \n",
    "        #feature extraction using GLCM\n",
    "        glcm_mat=greycomatrix(original__grey_image,[1],[0,np.pi/4,np.pi,0.75*np.pi],levels=256,symmetric=True,normed=True)\n",
    "        #different features\n",
    "        contrast=np.mean(greycoprops(glcm_mat,'contrast'))\n",
    "        \n",
    "        dissimilar=np.mean(greycoprops(glcm_mat,'dissimilarity'))\n",
    "        \n",
    "        homogeneity=np.mean(greycoprops(glcm_mat,'homogeneity'))\n",
    "        \n",
    "        energy=np.mean(greycoprops(glcm_mat,'energy'))\n",
    "        \n",
    "        asm=np.mean(greycoprops(glcm_mat,'ASM'))\n",
    "        \n",
    "        correlation=np.mean(greycoprops(glcm_mat,'correlation'))\n",
    "        \n",
    "        feature_vect=[correlation,dissimilar,homogeneity,energy,asm,correlation]\n",
    "        \n",
    "        X.append(feature_vect)\n",
    "        \n",
    "    \n",
    "\n",
    "X=np.asarray(X,dtype=float)\n",
    "Y=np.asarray(Y,dtype=int)\n",
    "        "
   ]
  },
  {
   "cell_type": "code",
   "execution_count": 8,
   "metadata": {},
   "outputs": [
    {
     "name": "stdout",
     "output_type": "stream",
     "text": [
      "(833,)\n"
     ]
    }
   ],
   "source": [
    "print(Y.shape)"
   ]
  },
  {
   "cell_type": "code",
   "execution_count": 9,
   "metadata": {},
   "outputs": [],
   "source": [
    "#shuffling the feature vectors and labels together\n",
    "randomise=np.arange(len(X))\n",
    "np.random.shuffle(randomise)\n",
    "X=X[randomise]\n",
    "Y=Y[randomise]\n",
    "\n",
    "\n",
    "#trainand test splitting\n",
    "X_train, X_test, Y_train, Y_test = train_test_split(X, Y, test_size=0.2)"
   ]
  },
  {
   "cell_type": "code",
   "execution_count": 10,
   "metadata": {},
   "outputs": [
    {
     "name": "stdout",
     "output_type": "stream",
     "text": [
      "[[35 37]\n",
      " [10 85]]\n",
      "              precision    recall  f1-score   support\n",
      "\n",
      "           0       0.78      0.49      0.60        72\n",
      "           1       0.70      0.89      0.78        95\n",
      "\n",
      "   micro avg       0.72      0.72      0.72       167\n",
      "   macro avg       0.74      0.69      0.69       167\n",
      "weighted avg       0.73      0.72      0.70       167\n",
      "\n",
      "Accuracy :  0.718562874251497\n"
     ]
    }
   ],
   "source": [
    "#linear SVM\n",
    "linearsvclassifier =SVC(kernel='linear')\n",
    "linearsvclassifier.fit(X_train,Y_train)\n",
    "\n",
    "Y_pred=linearsvclassifier.predict(X_test)\n",
    "\n",
    "print(confusion_matrix(Y_test,Y_pred))\n",
    "print(classification_report(Y_test,Y_pred))\n",
    "print(\"Accuracy : \",metrics.accuracy_score(Y_test,Y_pred))"
   ]
  },
  {
   "cell_type": "code",
   "execution_count": 11,
   "metadata": {},
   "outputs": [
    {
     "name": "stdout",
     "output_type": "stream",
     "text": [
      "[[56 16]\n",
      " [44 51]]\n",
      "              precision    recall  f1-score   support\n",
      "\n",
      "           0       0.56      0.78      0.65        72\n",
      "           1       0.76      0.54      0.63        95\n",
      "\n",
      "   micro avg       0.64      0.64      0.64       167\n",
      "   macro avg       0.66      0.66      0.64       167\n",
      "weighted avg       0.67      0.64      0.64       167\n",
      "\n",
      "Accuracy :  0.6407185628742516\n"
     ]
    },
    {
     "name": "stderr",
     "output_type": "stream",
     "text": [
      "C:\\Users\\Legion\\Anaconda3\\lib\\site-packages\\sklearn\\svm\\base.py:196: FutureWarning: The default value of gamma will change from 'auto' to 'scale' in version 0.22 to account better for unscaled features. Set gamma explicitly to 'auto' or 'scale' to avoid this warning.\n",
      "  \"avoid this warning.\", FutureWarning)\n"
     ]
    }
   ],
   "source": [
    "#kernel SVM\n",
    "kernelsvclassifier =SVC(kernel='rbf')\n",
    "kernelsvclassifier.fit(X_train,Y_train)\n",
    "\n",
    "Y_pred=kernelsvclassifier.predict(X_test)\n",
    "\n",
    "print(confusion_matrix(Y_test,Y_pred))\n",
    "print(classification_report(Y_test,Y_pred))\n",
    "print(\"Accuracy : \",metrics.accuracy_score(Y_test,Y_pred))"
   ]
  },
  {
   "cell_type": "code",
   "execution_count": null,
   "metadata": {},
   "outputs": [],
   "source": []
  }
 ],
 "metadata": {
  "kernelspec": {
   "display_name": "Python 3",
   "language": "python",
   "name": "python3"
  },
  "language_info": {
   "codemirror_mode": {
    "name": "ipython",
    "version": 3
   },
   "file_extension": ".py",
   "mimetype": "text/x-python",
   "name": "python",
   "nbconvert_exporter": "python",
   "pygments_lexer": "ipython3",
   "version": "3.6.7"
  }
 },
 "nbformat": 4,
 "nbformat_minor": 2
}
