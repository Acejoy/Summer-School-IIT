{
 "cells": [
  {
   "cell_type": "code",
   "execution_count": 5,
   "metadata": {
    "scrolled": true
   },
   "outputs": [
    {
     "name": "stdout",
     "output_type": "stream",
     "text": [
      "[2 0 3 3 1 0 2 0 0 1 1 2 1 1 1 3 2 2 1 1 1 3 2 2 2 3 2 1 3 2 2 1 1 0 0 1 1\n",
      " 1 3 3 2 1 3 3 0 0 2 3 3 2 0 1 3 2 3 3 0 1 1 3 0 0 2 0 0 2 0 3 2 2 0 1 2 0\n",
      " 3 3 1 3 3 0 1 3 1 1 1 1 2 0 2 1 0 2 0 3 3 1 0 3 0 3 1 0 3 2 3 0 3 1 1 2 0\n",
      " 1 2 2 1 3 2 2 3 0 2 2 2 2 0 2 2 3 2 0 1 0 0 3 2 3 0 2 2 1 2 3 2 1 1 2 0 3\n",
      " 0 1 2 1 3 0 0 3 2 0 0 0 3 3 1 0 1 1 1 3 0 0 0 0 1 3 0 2 1 0 2 3 0 3 3 2 1\n",
      " 0 1 2 3 0 3 3 1 3 0 2 1 3 1 2]\n",
      "[[-1.06705283e+00  9.24306355e+00]\n",
      " [ 1.08654318e+00 -6.94815805e+00]\n",
      " [-2.30970265e+00  5.84969440e+00]\n",
      " [-1.59728965e+00  8.45369045e+00]\n",
      " [-5.79816711e+00 -3.78405528e+00]\n",
      " [-2.29833776e+00 -4.66005371e+00]\n",
      " [-1.68210799e+00  1.12843423e+01]\n",
      " [-7.38296450e-01 -5.20135260e+00]\n",
      " [-1.92048345e-01 -6.45318764e+00]\n",
      " [-6.37920287e+00 -2.17672355e+00]\n",
      " [-5.12054803e+00 -2.91449176e+00]\n",
      " [-4.22297649e+00  9.04719945e+00]\n",
      " [-2.67815731e+00 -2.32828819e+00]\n",
      " [-3.02994109e+00  1.86959382e+00]\n",
      " [-5.73938121e+00 -7.25648845e-01]\n",
      " [-1.99427571e+00  4.28616868e+00]\n",
      " [-2.89522086e+00  1.10222354e+01]\n",
      " [-1.11286937e+00  1.03086380e+01]\n",
      " [-5.19987051e+00 -1.59879364e+00]\n",
      " [-4.75916597e+00 -1.97047767e+00]\n",
      " [-6.76865308e+00 -3.56907573e+00]\n",
      " [-2.65715781e+00  3.33763714e+00]\n",
      " [-4.61722463e+00  1.06373187e+01]\n",
      " [-1.43729337e+00  1.12137736e+01]\n",
      " [-1.98068787e+00  9.73142838e+00]\n",
      " [-1.47838268e+00  4.02156675e+00]\n",
      " [-3.74580344e+00  9.15545625e+00]\n",
      " [-5.51090509e-01 -2.19802594e+00]\n",
      " [-2.68015629e+00  5.58489786e+00]\n",
      " [-1.18697121e-01  1.04950260e+01]\n",
      " [ 7.08946126e-02  1.27161487e+01]\n",
      " [-6.03097685e+00 -1.01668649e+00]\n",
      " [-6.43543481e+00  1.19165025e-01]\n",
      " [-7.91271326e-01 -5.63231066e+00]\n",
      " [ 9.02189228e-02 -4.24988128e+00]\n",
      " [-3.72960397e+00 -2.40552410e+00]\n",
      " [-5.47201497e+00 -1.29098281e+00]\n",
      " [-4.50400179e+00 -1.29552557e+00]\n",
      " [-1.59604970e+00  7.08952891e+00]\n",
      " [-2.45285170e+00  6.35814471e+00]\n",
      " [-1.02481236e+00  1.34548122e+01]\n",
      " [-7.16917808e+00 -3.68305685e+00]\n",
      " [-2.09444877e+00  6.60308885e+00]\n",
      " [-3.08549983e+00  6.22161479e+00]\n",
      " [-6.82140576e-01 -4.83269360e+00]\n",
      " [ 1.64436813e+00 -3.29688399e+00]\n",
      " [-1.81165386e+00  9.57286673e+00]\n",
      " [-1.21769584e-01  6.51275284e+00]\n",
      " [-1.65143884e+00  6.38316168e+00]\n",
      " [-4.18721798e+00  8.93800061e+00]\n",
      " [-1.10703455e+00 -4.83713152e+00]\n",
      " [-7.62627421e+00 -4.60727232e+00]\n",
      " [-3.06568887e-01  5.25844092e+00]\n",
      " [-1.23581275e+00  8.35805290e+00]\n",
      " [-1.85807535e-01  2.57718893e+00]\n",
      " [ 7.28797198e-01  6.06528632e+00]\n",
      " [-1.70400879e+00 -2.88008464e+00]\n",
      " [-5.02706384e+00  7.61298431e-01]\n",
      " [-6.22443225e+00 -6.57162467e-01]\n",
      " [-2.90807981e+00  5.27669491e+00]\n",
      " [-1.37711368e+00 -5.50047455e+00]\n",
      " [-5.57986277e-01 -2.70088621e+00]\n",
      " [-5.68833947e+00  7.94601173e+00]\n",
      " [-2.77413056e+00 -5.78872960e+00]\n",
      " [-1.53159637e+00 -5.42990953e+00]\n",
      " [-3.22848472e+00  9.44642918e+00]\n",
      " [ 9.86777496e-01 -7.30690762e+00]\n",
      " [-4.42661936e+00  3.35071015e+00]\n",
      " [-3.17162516e+00  1.10347610e+01]\n",
      " [-4.74516474e+00  7.89837755e+00]\n",
      " [ 1.02471465e+00 -4.64795418e+00]\n",
      " [-6.13566432e+00 -2.93094035e+00]\n",
      " [-3.42672033e+00  7.64284207e+00]\n",
      " [ 1.27831270e+00 -6.29519484e+00]\n",
      " [-3.16483095e+00  6.35636403e+00]\n",
      " [ 1.13910574e-02  5.46235123e+00]\n",
      " [-5.41232378e+00 -2.68666494e+00]\n",
      " [ 4.61164125e-01  4.69143186e+00]\n",
      " [-2.41469662e+00  4.66269862e+00]\n",
      " [-3.77686363e-01 -5.75177620e+00]\n",
      " [-6.10691421e+00 -5.98494706e+00]\n",
      " [-4.87535312e-01  6.36669314e+00]\n",
      " [-5.73193316e+00 -1.81425052e+00]\n",
      " [-4.88797474e+00 -2.96226761e+00]\n",
      " [-5.91551686e+00 -1.39463278e+00]\n",
      " [-7.44500073e+00 -1.82470952e+00]\n",
      " [-3.39008216e+00  1.09563447e+01]\n",
      " [ 2.47622860e-01 -5.03543616e+00]\n",
      " [-3.10260432e+00  1.09469609e+01]\n",
      " [-5.15417920e+00 -4.12796457e+00]\n",
      " [-4.28633194e-01 -4.24947701e+00]\n",
      " [-4.27501504e+00  1.08359469e+01]\n",
      " [ 4.55976021e-02 -4.59883918e+00]\n",
      " [-5.04804825e+00  4.27765336e+00]\n",
      " [-2.40612947e+00  5.07809235e+00]\n",
      " [-2.27451380e+00 -1.54186053e+00]\n",
      " [-1.57744641e-01 -1.15341625e+01]\n",
      " [-2.19532828e+00  4.52009408e+00]\n",
      " [-5.01209756e-01 -3.66534438e+00]\n",
      " [-2.55093474e+00  5.07808929e+00]\n",
      " [-7.89434801e+00 -3.17030594e+00]\n",
      " [-1.53349447e+00 -5.87137205e+00]\n",
      " [-3.69177238e+00  2.87620370e+00]\n",
      " [-1.31024459e+00  1.19798893e+01]\n",
      " [-1.49167744e+00  7.45001320e+00]\n",
      " [ 2.24563558e+00 -6.37052906e+00]\n",
      " [-2.93581723e+00  4.37099430e+00]\n",
      " [-2.45885784e+00 -3.47646132e+00]\n",
      " [-9.37207745e+00 -2.04265047e+00]\n",
      " [-1.85324174e+00  1.15343543e+01]\n",
      " [-4.55544644e-02 -5.77956461e+00]\n",
      " [-4.81350458e+00 -4.29442383e+00]\n",
      " [-2.83977728e+00  1.05836834e+01]\n",
      " [-3.25189078e+00  8.58382453e+00]\n",
      " [-5.78104717e+00 -3.22180679e+00]\n",
      " [-1.35072701e+00  4.38388826e+00]\n",
      " [-2.54760385e+00  1.23266492e+01]\n",
      " [-1.83963385e+00  1.17304073e+01]\n",
      " [-3.56940146e+00  3.97719844e+00]\n",
      " [ 5.19455346e+00 -3.85790517e+00]\n",
      " [ 1.26866610e+00  8.69129038e+00]\n",
      " [-3.63664996e+00  7.23811254e+00]\n",
      " [-1.55079863e+00  8.16118375e+00]\n",
      " [-1.75136566e+00  1.01798622e+01]\n",
      " [ 4.22044090e+00 -7.82455952e+00]\n",
      " [-1.01845204e+00  1.08561916e+01]\n",
      " [-3.09538208e+00  9.04263837e+00]\n",
      " [-2.75853245e+00  5.71712591e+00]\n",
      " [-1.69955192e+00  7.60084115e+00]\n",
      " [ 1.00681205e+00 -5.97364221e+00]\n",
      " [-3.63618643e+00 -4.01910949e+00]\n",
      " [ 1.05766953e+00 -2.84354513e+00]\n",
      " [-5.21005358e-01 -5.36288806e+00]\n",
      " [ 4.74333018e-01  2.91649791e+00]\n",
      " [-1.16095485e+00  9.30443737e+00]\n",
      " [ 7.72592657e-01  3.34757221e+00]\n",
      " [ 1.15283270e-01 -4.98158692e+00]\n",
      " [-6.17063348e-01  1.04101088e+01]\n",
      " [-2.76847604e+00  8.52320320e+00]\n",
      " [-5.25173430e+00 -2.08429857e+00]\n",
      " [-3.85525653e+00  9.54219399e+00]\n",
      " [-8.01851943e-01  5.95676894e+00]\n",
      " [-2.36271016e+00  6.81776964e+00]\n",
      " [-1.99764975e+00 -3.85128758e+00]\n",
      " [-6.65130512e+00 -3.92501387e+00]\n",
      " [-5.57724115e+00  1.14034957e+01]\n",
      " [ 1.19709771e+00 -5.35592862e+00]\n",
      " [-3.25011945e+00  5.37703143e+00]\n",
      " [ 1.18033537e+00 -7.97895365e+00]\n",
      " [-6.91252565e+00 -4.45298216e+00]\n",
      " [-1.76815267e+00  9.19196787e+00]\n",
      " [-6.65058496e+00 -2.11819191e+00]\n",
      " [-3.70764352e+00  6.74162691e+00]\n",
      " [-3.71255665e-01 -4.99321884e+00]\n",
      " [ 1.12056494e-01 -6.58921181e+00]\n",
      " [-2.33425004e+00  7.05562607e+00]\n",
      " [-6.96784964e-01  1.00164565e+01]\n",
      " [-7.67542214e-01 -5.69548201e+00]\n",
      " [-6.88656858e-01 -9.55180953e+00]\n",
      " [ 3.19734410e+00 -3.69780369e+00]\n",
      " [-1.66854762e+00  4.66869475e+00]\n",
      " [-3.40729232e-01  5.72252744e+00]\n",
      " [-7.63340475e-01 -2.76069256e+00]\n",
      " [-2.15963524e+00 -7.56230415e+00]\n",
      " [-5.10916044e+00 -4.59492642e+00]\n",
      " [-4.57024715e+00 -7.15787278e-01]\n",
      " [-4.87469044e+00 -2.18916044e+00]\n",
      " [-1.42220382e+00  5.20840822e+00]\n",
      " [ 1.86144971e+00 -9.23586332e+00]\n",
      " [-4.26446596e-01 -4.87764872e+00]\n",
      " [-1.35671783e+00 -3.72590953e+00]\n",
      " [ 9.41731341e-02 -4.05882797e+00]\n",
      " [-6.95635379e+00 -8.81553313e-01]\n",
      " [ 1.08172044e+00  5.81661034e+00]\n",
      " [ 3.14164337e-02 -5.38350852e+00]\n",
      " [-2.85096028e+00  7.51512826e+00]\n",
      " [-4.36021918e+00 -2.94957772e+00]\n",
      " [-3.47593712e-01 -4.33384716e+00]\n",
      " [-2.70720258e+00  1.05857295e+01]\n",
      " [-3.77539609e+00  4.13414806e+00]\n",
      " [ 1.26381204e+00 -7.84824077e+00]\n",
      " [-1.44884409e+00  3.75963327e+00]\n",
      " [-2.25521451e+00  5.57096900e+00]\n",
      " [-3.09117088e+00  9.37957142e+00]\n",
      " [-6.36790963e+00 -5.30288810e-02]\n",
      " [-6.11503859e-01 -3.24108804e+00]\n",
      " [-6.24195183e+00 -2.19627952e+00]\n",
      " [-5.34255894e+00  1.28888667e+01]\n",
      " [ 1.14391114e+00  4.35267793e+00]\n",
      " [ 2.32669251e+00 -7.52917540e+00]\n",
      " [-2.96275801e+00  2.59217754e+00]\n",
      " [-3.02730359e+00  3.52590749e+00]\n",
      " [-3.49785697e+00 -8.75045274e-01]\n",
      " [-5.23835667e-01  7.48498444e+00]\n",
      " [ 1.09766760e+00 -4.85679456e+00]\n",
      " [-1.10000365e+00  1.10130763e+01]\n",
      " [-3.98648663e+00 -1.98177808e+00]\n",
      " [-3.29604652e+00  6.38490461e+00]\n",
      " [-3.75526942e+00 -1.56756272e+00]\n",
      " [-7.10483937e-01  1.18869578e+01]]\n"
     ]
    }
   ],
   "source": [
    "#creating random blobs\n",
    "\n",
    "from sklearn.datasets import make_blobs\n",
    "import numpy as np\n",
    "import matplotlib.pyplot as plt\n",
    "\n",
    "#create blobs\n",
    "x,y = make_blobs(n_samples=200, n_features=2, centers=4, cluster_std=1.6 , random_state=50)\n",
    "print(y)\n",
    "\n",
    "#create np array for data points\n",
    "points=x\n",
    "print(points)"
   ]
  },
  {
   "cell_type": "code",
   "execution_count": 6,
   "metadata": {},
   "outputs": [
    {
     "data": {
      "text/plain": [
       "(-15, 15)"
      ]
     },
     "execution_count": 6,
     "metadata": {},
     "output_type": "execute_result"
    },
    {
     "data": {
      "image/png": "[encoded data removed]",
      "text/plain": [
       "<Figure size 432x288 with 1 Axes>"
      ]
     },
     "metadata": {
      "needs_background": "light"
     },
     "output_type": "display_data"
    }
   ],
   "source": [
    "#create scatter plot\n",
    "plt.scatter(x[:,0],x[:,1],c=y,cmap='viridis')\n",
    "plt.xlim(-15,15)\n",
    "plt.ylim(-15,15)"
   ]
  },
  {
   "cell_type": "code",
   "execution_count": 15,
   "metadata": {},
   "outputs": [],
   "source": [
    "temp_x, temp_y = make_blobs(n_samples=10, n_features=2, cluster_std=1, centers=3,\n",
    "                            random_state=30)\n",
    "\n",
    "centerwise_indices=[ temp_y==x for x in np.unique(temp_y)]\n",
    "\n"
   ]
  },
  {
   "cell_type": "code",
   "execution_count": 17,
   "metadata": {},
   "outputs": [
    {
     "name": "stdout",
     "output_type": "stream",
     "text": [
      "[2 1 0 1 2 0 0 1 2 0]\n",
      "[[ 6.34878868 -1.44987282]\n",
      " [ 1.17706147 -5.78920377]\n",
      " [ 2.11882289 -3.16021872]\n",
      " [ 4.64480527 -5.96660039]\n",
      " [ 8.82914097 -2.0022811 ]\n",
      " [ 4.46109627 -2.27753226]\n",
      " [ 3.01716731 -3.49188567]\n",
      " [ 2.97531259 -6.188618  ]\n",
      " [ 9.24637828 -3.53424216]\n",
      " [ 1.15690829 -0.79993484]]\n"
     ]
    },
    {
     "data": {
      "text/plain": [
       "[array([False, False,  True, False, False,  True,  True, False, False,\n",
       "         True]),\n",
       " array([False,  True, False,  True, False, False, False,  True, False,\n",
       "        False]),\n",
       " array([ True, False, False, False,  True, False, False, False,  True,\n",
       "        False])]"
      ]
     },
     "execution_count": 17,
     "metadata": {},
     "output_type": "execute_result"
    }
   ],
   "source": [
    "print(temp_y)\n",
    "print(temp_x)\n",
    "centerwise_indices"
   ]
  },
  {
   "cell_type": "code",
   "execution_count": 23,
   "metadata": {},
   "outputs": [],
   "source": [
    "k=[np.mean(temp_x[idx],axis=0) for idx in centerwise_indices]"
   ]
  },
  {
   "cell_type": "code",
   "execution_count": 24,
   "metadata": {},
   "outputs": [
    {
     "data": {
      "text/plain": [
       "[array([ 2.68849869, -2.43239287]),\n",
       " array([ 2.93239311, -5.98147405]),\n",
       " array([ 8.14143598, -2.32879869])]"
      ]
     },
     "execution_count": 24,
     "metadata": {},
     "output_type": "execute_result"
    }
   ],
   "source": [
    "k"
   ]
  },
  {
   "cell_type": "code",
   "execution_count": 27,
   "metadata": {},
   "outputs": [
    {
     "data": {
      "text/plain": [
       "array([[ 1.17706147, -5.78920377],\n",
       "       [ 4.64480527, -5.96660039],\n",
       "       [ 2.97531259, -6.188618  ]])"
      ]
     },
     "execution_count": 27,
     "metadata": {},
     "output_type": "execute_result"
    }
   ],
   "source": [
    "temp_x[centerwise_indices[1]]"
   ]
  },
  {
   "cell_type": "code",
   "execution_count": 29,
   "metadata": {},
   "outputs": [
    {
     "data": {
      "text/plain": [
       "2.93239311"
      ]
     },
     "execution_count": 29,
     "metadata": {},
     "output_type": "execute_result"
    }
   ],
   "source": [
    "(4.64480527+2.97531259+1.17706147)/3"
   ]
  },
  {
   "cell_type": "code",
   "execution_count": 33,
   "metadata": {},
   "outputs": [
    {
     "name": "stdout",
     "output_type": "stream",
     "text": [
      "[[-2.40167949 10.17352695]\n",
      " [ 0.05161133 -5.35489826]\n",
      " [-5.56465793 -2.34988939]\n",
      " [-1.92101646  5.21673484]]\n"
     ]
    }
   ],
   "source": [
    "from sklearn.cluster import KMeans\n",
    "\n",
    "kmeans=KMeans(n_clusters=4)\n",
    "\n",
    "kmeans.fit(points)\n",
    "\n",
    "print(kmeans.cluster_centers_)\n",
    "\n",
    "y_km = kmeans.fit_predict(points)\n"
   ]
  },
  {
   "cell_type": "code",
   "execution_count": 34,
   "metadata": {},
   "outputs": [
    {
     "name": "stdout",
     "output_type": "stream",
     "text": [
      "Help on method fit_predict in module sklearn.cluster.k_means_:\n",
      "\n",
      "fit_predict(X, y=None, sample_weight=None) method of sklearn.cluster.k_means_.KMeans instance\n",
      "    Compute cluster centers and predict cluster index for each sample.\n",
      "    \n",
      "    Convenience method; equivalent to calling fit(X) followed by\n",
      "    predict(X).\n",
      "    \n",
      "    Parameters\n",
      "    ----------\n",
      "    X : {array-like, sparse matrix}, shape = [n_samples, n_features]\n",
      "        New data to transform.\n",
      "    \n",
      "    y : Ignored\n",
      "        not used, present here for API consistency by convention.\n",
      "    \n",
      "    sample_weight : array-like, shape (n_samples,), optional\n",
      "        The weights for each observation in X. If None, all observations\n",
      "        are assigned equal weight (default: None)\n",
      "    \n",
      "    Returns\n",
      "    -------\n",
      "    labels : array, shape [n_samples,]\n",
      "        Index of the cluster each sample belongs to.\n",
      "\n"
     ]
    }
   ],
   "source": [
    "pri"
   ]
  },
  {
   "cell_type": "code",
   "execution_count": 35,
   "metadata": {},
   "outputs": [
    {
     "name": "stdout",
     "output_type": "stream",
     "text": [
      "[2 1 0 2 3 1 2 1 1 3 3 2 3 0 3 0 2 2 3 3 3 0 2 2 2 0 2 1 0 2 2 3 3 1 1 3 3\n",
      " 3 0 0 2 3 0 0 1 1 2 0 0 2 1 3 0 2 0 0 1 3 3 0 1 1 2 1 1 2 1 0 2 2 1 3 2 1\n",
      " 0 0 3 0 0 1 3 0 3 3 3 3 2 1 2 3 1 2 1 0 0 3 1 0 1 0 3 1 0 2 0 1 0 1 3 2 1\n",
      " 3 2 2 3 0 2 2 0 1 2 0 2 2 1 2 2 0 0 1 3 1 1 0 2 0 1 2 2 3 2 0 0 1 3 2 1 0\n",
      " 1 3 2 3 0 1 1 0 2 1 1 1 0 0 1 1 3 3 3 0 1 1 1 1 3 0 1 0 3 1 2 0 1 0 0 2 3\n",
      " 1 3 2 0 1 0 0 3 0 1 2 3 0 3 2]\n"
     ]
    }
   ],
   "source": [
    "print(y_km)"
   ]
  },
  {
   "cell_type": "code",
   "execution_count": 38,
   "metadata": {},
   "outputs": [
    {
     "data": {
      "text/plain": [
       "<matplotlib.collections.PathCollection at 0x224e85596a0>"
      ]
     },
     "execution_count": 38,
     "metadata": {},
     "output_type": "execute_result"
    },
    {
     "data": {
      "image/png": "[encoded data removed]",
      "text/plain": [
       "<Figure size 432x288 with 1 Axes>"
      ]
     },
     "metadata": {
      "needs_background": "light"
     },
     "output_type": "display_data"
    }
   ],
   "source": [
    "plt.scatter(points[y_km==0,0],points[y_km==0,1],s=100,c='red')\n",
    "plt.scatter(points[y_km==1,0],points[y_km==1,1],s=100,c='yellow')\n",
    "plt.scatter(points[y_km==2,0],points[y_km==2,1],s=100,c='orange')\n",
    "plt.scatter(points[y_km==3,0],points[y_km==3,1],s=100,c='black')"
   ]
  },
  {
   "cell_type": "code",
   "execution_count": 36,
   "metadata": {},
   "outputs": [
    {
     "name": "stdout",
     "output_type": "stream",
     "text": [
      "Help on function scatter in module matplotlib.pyplot:\n",
      "\n",
      "scatter(x, y, s=None, c=None, marker=None, cmap=None, norm=None, vmin=None, vmax=None, alpha=None, linewidths=None, verts=None, edgecolors=None, *, data=None, **kwargs)\n",
      "    A scatter plot of *y* vs *x* with varying marker size and/or color.\n",
      "    \n",
      "    Parameters\n",
      "    ----------\n",
      "    x, y : array_like, shape (n, )\n",
      "        The data positions.\n",
      "    \n",
      "    s : scalar or array_like, shape (n, ), optional\n",
      "        The marker size in points**2.\n",
      "        Default is ``rcParams['lines.markersize'] ** 2``.\n",
      "    \n",
      "    c : color, sequence, or sequence of color, optional\n",
      "        The marker color. Possible values:\n",
      "    \n",
      "        - A single color format string.\n",
      "        - A sequence of color specifications of length n.\n",
      "        - A sequence of n numbers to be mapped to colors using *cmap* and\n",
      "          *norm*.\n",
      "        - A 2-D array in which the rows are RGB or RGBA.\n",
      "    \n",
      "        Note that *c* should not be a single numeric RGB or RGBA sequence\n",
      "        because that is indistinguishable from an array of values to be\n",
      "        colormapped. If you want to specify the same RGB or RGBA value for\n",
      "        all points, use a 2-D array with a single row.  Otherwise, value-\n",
      "        matching will have precedence in case of a size matching with *x*\n",
      "        and *y*.\n",
      "    \n",
      "        Defaults to ``None``. In that case the marker color is determined\n",
      "        by the value of ``color``, ``facecolor`` or ``facecolors``. In case\n",
      "        those are not specified or ``None``, the marker color is determined\n",
      "        by the next color of the ``Axes``' current \"shape and fill\" color\n",
      "        cycle. This cycle defaults to :rc:`axes.prop_cycle`.\n",
      "    \n",
      "    marker : `~matplotlib.markers.MarkerStyle`, optional\n",
      "        The marker style. *marker* can be either an instance of the class\n",
      "        or the text shorthand for a particular marker.\n",
      "        Defaults to ``None``, in which case it takes the value of\n",
      "        :rc:`scatter.marker` = 'o'.\n",
      "        See `~matplotlib.markers` for more information about marker styles.\n",
      "    \n",
      "    cmap : `~matplotlib.colors.Colormap`, optional, default: None\n",
      "        A `.Colormap` instance or registered colormap name. *cmap* is only\n",
      "        used if *c* is an array of floats. If ``None``, defaults to rc\n",
      "        ``image.cmap``.\n",
      "    \n",
      "    norm : `~matplotlib.colors.Normalize`, optional, default: None\n",
      "        A `.Normalize` instance is used to scale luminance data to 0, 1.\n",
      "        *norm* is only used if *c* is an array of floats. If *None*, use\n",
      "        the default `.colors.Normalize`.\n",
      "    \n",
      "    vmin, vmax : scalar, optional, default: None\n",
      "        *vmin* and *vmax* are used in conjunction with *norm* to normalize\n",
      "        luminance data. If None, the respective min and max of the color\n",
      "        array is used. *vmin* and *vmax* are ignored if you pass a *norm*\n",
      "        instance.\n",
      "    \n",
      "    alpha : scalar, optional, default: None\n",
      "        The alpha blending value, between 0 (transparent) and 1 (opaque).\n",
      "    \n",
      "    linewidths : scalar or array_like, optional, default: None\n",
      "        The linewidth of the marker edges. Note: The default *edgecolors*\n",
      "        is 'face'. You may want to change this as well.\n",
      "        If *None*, defaults to rcParams ``lines.linewidth``.\n",
      "    \n",
      "    edgecolors : color or sequence of color, optional, default: 'face'\n",
      "        The edge color of the marker. Possible values:\n",
      "    \n",
      "        - 'face': The edge color will always be the same as the face color.\n",
      "        - 'none': No patch boundary will be drawn.\n",
      "        - A matplotib color.\n",
      "    \n",
      "        For non-filled markers, the *edgecolors* kwarg is ignored and\n",
      "        forced to 'face' internally.\n",
      "    \n",
      "    Returns\n",
      "    -------\n",
      "    paths : `~matplotlib.collections.PathCollection`\n",
      "    \n",
      "    Other Parameters\n",
      "    ----------------\n",
      "    **kwargs : `~matplotlib.collections.Collection` properties\n",
      "    \n",
      "    See Also\n",
      "    --------\n",
      "    plot : To plot scatter plots when markers are identical in size and\n",
      "        color.\n",
      "    \n",
      "    Notes\n",
      "    -----\n",
      "    \n",
      "    * The `.plot` function will be faster for scatterplots where markers\n",
      "      don't vary in size or color.\n",
      "    \n",
      "    * Any or all of *x*, *y*, *s*, and *c* may be masked arrays, in which\n",
      "      case all masks will be combined and only unmasked points will be\n",
      "      plotted.\n",
      "    \n",
      "    * Fundamentally, scatter works with 1-D arrays; *x*, *y*, *s*, and *c*\n",
      "      may be input as 2-D arrays, but within scatter they will be\n",
      "      flattened. The exception is *c*, which will be flattened only if its\n",
      "      size matches the size of *x* and *y*.\n",
      "    \n",
      "    .. note::\n",
      "        In addition to the above described arguments, this function can take a\n",
      "        **data** keyword argument. If such a **data** argument is given, the\n",
      "        following arguments are replaced by **data[<arg>]**:\n",
      "    \n",
      "        * All arguments with the following names: 'c', 'color', 'edgecolors', 'facecolor', 'facecolors', 'linewidths', 's', 'x', 'y'.\n",
      "    \n",
      "        Objects passed as **data** must support item access (``data[<arg>]``) and\n",
      "        membership test (``<arg> in data``).\n",
      "\n"
     ]
    }
   ],
   "source": [
    "help(plt.scatter)"
   ]
  },
  {
   "cell_type": "code",
   "execution_count": null,
   "metadata": {},
   "outputs": [],
   "source": []
  }
 ],
 "metadata": {
  "kernelspec": {
   "display_name": "Python 3",
   "language": "python",
   "name": "python3"
  },
  "language_info": {
   "codemirror_mode": {
    "name": "ipython",
    "version": 3
   },
   "file_extension": ".py",
   "mimetype": "text/x-python",
   "name": "python",
   "nbconvert_exporter": "python",
   "pygments_lexer": "ipython3",
   "version": "3.7.1"
  }
 },
 "nbformat": 4,
 "nbformat_minor": 2
}
