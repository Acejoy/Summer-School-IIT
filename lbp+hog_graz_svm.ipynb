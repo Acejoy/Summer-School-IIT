{
 "cells": [
  {
   "cell_type": "code",
   "execution_count": 3,
   "metadata": {},
   "outputs": [],
   "source": [
    "import re\n",
    "import os\n",
    "import cv2\n",
    "import numpy as np\n",
    "from scipy import misc\n",
    "from skimage import feature\n",
    "from sklearn import metrics\n",
    "from sklearn.svm import SVC\n",
    "import matplotlib.pyplot as plt\n",
    "from sklearn.model_selection import train_test_split\n",
    "from sklearn.metrics import confusion_matrix,classification_report\n"
   ]
  },
  {
   "cell_type": "code",
   "execution_count": 8,
   "metadata": {},
   "outputs": [],
   "source": [
    "class LocalBinaryPatterns:\n",
    "    \n",
    "    def __init__(self,numPoints,rad):\n",
    "        self.num_p=numPoints\n",
    "        self.radius=rad\n",
    "        \n",
    "        \n",
    "    def describe(self,img,eps=1e-7):\n",
    "        \n",
    "        lbp=feature.local_binary_pattern(im,self.numPoints,self,radius,method='uniform')\n",
    "        new_lbp=lbp.astype(dtype='uint8')\n",
    "        \n",
    "        (hist,_)=np.histogram(lbp.ravel(),bins=np.arange(0,self.num_p+3,range=(0,self.numPoints+2)))\n",
    "        \n",
    "        hist=hist.astype(\"float\")\n",
    "        hist/=(hist.sum()+eps)\n",
    "                                                       \n",
    "        return hist"
   ]
  },
  {
   "cell_type": "code",
   "execution_count": null,
   "metadata": {},
   "outputs": [],
   "source": [
    "desc=LocalBinaryPatterns(24,8)\n",
    "final_data=[]\n",
    "labels=[]\n",
    "hog=cv2.HOGDescriptor()\n",
    "\n",
    "main_folder_path=r'C:\\Users\\Legion\\Desktop\\Internship_IIT\\GRAZ'\n",
    "segments=[r'bikes\\bikes',r'persons\\persons']\n",
    "\n",
    "for segment in segments:\n",
    "    absolute_path=os.path.join(main_folder_path,segment)\n",
    "    \n",
    "    for image_name in os.listdir(absolute_path):\n",
    "        image_path=os.path.join(absolute_path,image_name)\n",
    "        \n",
    "        im=misc.imread(image_path,mode='L')\n",
    "        #lbp features\n",
    "        h=desc.describe(im)\n",
    "        #hog features\n",
    "        \n",
    "        z=re.match(\"^bike.\",image_name)\n",
    "        if z:\n",
    "            labels.append(0)\n",
    "        else\n",
    "            labels.append(1)\n",
    "            \n",
    "        "
   ]
  },
  {
   "cell_type": "code",
   "execution_count": null,
   "metadata": {},
   "outputs": [],
   "source": [
    "help(hog)"
   ]
  }
 ],
 "metadata": {
  "kernelspec": {
   "display_name": "Python 3",
   "language": "python",
   "name": "python3"
  },
  "language_info": {
   "codemirror_mode": {
    "name": "ipython",
    "version": 3
   },
   "file_extension": ".py",
   "mimetype": "text/x-python",
   "name": "python",
   "nbconvert_exporter": "python",
   "pygments_lexer": "ipython3",
   "version": "3.7.1"
  }
 },
 "nbformat": 4,
 "nbformat_minor": 2
}
