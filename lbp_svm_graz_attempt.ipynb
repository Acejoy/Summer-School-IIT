{
 "cells": [
  {
   "cell_type": "code",
   "execution_count": 1,
   "metadata": {},
   "outputs": [],
   "source": [
    "import re\n",
    "import os\n",
    "import cv2\n",
    "import numpy as np\n",
    "from scipy import misc\n",
    "from skimage import feature\n",
    "from sklearn import metrics\n",
    "from sklearn.svm import SVC\n",
    "from sklearn.model_selection import train_test_split\n",
    "import matplotlib.pyplot as plt\n",
    "from sklearn.metrics import classification_report,confusion_matrix"
   ]
  },
  {
   "cell_type": "code",
   "execution_count": 2,
   "metadata": {},
   "outputs": [],
   "source": [
    "#defining Local Binary Patterns\n",
    "\n",
    "class LocalBinaryPatterns:\n",
    "    \n",
    "    def __init__(self,num_points,radius):\n",
    "        self.numpoints=num_points\n",
    "        self.radius=radius\n",
    "        \n",
    "    def describe(self,image,eps=1e-7):\n",
    "        lbp=feature.local_binary_pattern(image,self.numpoints,self.radius,method=\"uniform\")\n",
    "        new_lbp=lbp.astype(dtype='uint8')\n",
    "        #print(new_lbp)\n",
    "        #cv2.imshow(\"lbp image\",new_lbp)\n",
    "        #cv2.waitKey(0)\n",
    "        (hist,_)=np.histogram(lbp.ravel(),bins=np.arange(0,self.numpoints+3),range=(0,self.numpoints+2))\n",
    "        \n",
    "        hist=hist.astype(\"float\")\n",
    "        hist/=(hist.sum()+eps)\n",
    "        \n",
    "        return hist"
   ]
  },
  {
   "cell_type": "code",
   "execution_count": 50,
   "metadata": {},
   "outputs": [
    {
     "ename": "SyntaxError",
     "evalue": "(unicode error) 'unicodeescape' codec can't decode bytes in position 19-20: truncated \\UXXXXXXXX escape (<ipython-input-50-5f99ff308cdc>, line 9)",
     "output_type": "error",
     "traceback": [
      "\u001b[1;36m  File \u001b[1;32m\"<ipython-input-50-5f99ff308cdc>\"\u001b[1;36m, line \u001b[1;32m9\u001b[0m\n\u001b[1;33m    '''\u001b[0m\n\u001b[1;37m      ^\u001b[0m\n\u001b[1;31mSyntaxError\u001b[0m\u001b[1;31m:\u001b[0m (unicode error) 'unicodeescape' codec can't decode bytes in position 19-20: truncated \\UXXXXXXXX escape\n"
     ]
    }
   ],
   "source": [
    "'''\n",
    "im=cv2.imread(r'C:\\Users\\Legion\\Documents\\standard_test_images\\mandril_gray.tif',0)\n",
    "func=LocalBinaryPatterns(150,10)\n",
    "h1=func.describe(im)\n",
    "\n",
    "plt.figure()\n",
    "plt.plot(h1)\n",
    "plt.show()\n",
    "'''\n"
   ]
  },
  {
   "cell_type": "code",
   "execution_count": 4,
   "metadata": {},
   "outputs": [
    {
     "name": "stderr",
     "output_type": "stream",
     "text": [
      "C:\\Users\\Legion\\Anaconda3\\lib\\site-packages\\ipykernel_launcher.py:12: DeprecationWarning: `imread` is deprecated!\n",
      "`imread` is deprecated in SciPy 1.0.0, and will be removed in 1.2.0.\n",
      "Use ``imageio.imread`` instead.\n",
      "  if sys.path[0] == '':\n"
     ]
    }
   ],
   "source": [
    "desc=LocalBinaryPatterns(24,8)\n",
    "data=[]\n",
    "labels=[]\n",
    "\n",
    "main_folder_path=r'C:\\Users\\Legion\\Desktop\\Internship_IIT\\GRAZ'\n",
    "segments=[r'bikes\\bikes',r'persons\\persons']\n",
    "\n",
    "for seg in segments:\n",
    "    absolute_path=os.path.join(main_folder_path,seg)\n",
    "    \n",
    "    for image_name in os.listdir(absolute_path):\n",
    "        original__grey_image=misc.imread(os.path.join(absolute_path,image_name),mode='L')\n",
    "\n",
    "        h1=desc.describe(original__grey_image)\n",
    "        \n",
    "        z=re.match(\"^bike.\",image_name)\n",
    "        if z:\n",
    "            labels.append(0)\n",
    "        else:\n",
    "            labels.append(1)\n",
    "            \n",
    "        data.append(h1)\n",
    "        \n"
   ]
  },
  {
   "cell_type": "code",
   "execution_count": 6,
   "metadata": {},
   "outputs": [
    {
     "ename": "AttributeError",
     "evalue": "'list' object has no attribute 'shape'",
     "output_type": "error",
     "traceback": [
      "\u001b[1;31m---------------------------------------------------------------------------\u001b[0m",
      "\u001b[1;31mAttributeError\u001b[0m                            Traceback (most recent call last)",
      "\u001b[1;32m<ipython-input-6-047ed65ff157>\u001b[0m in \u001b[0;36m<module>\u001b[1;34m\u001b[0m\n\u001b[1;32m----> 1\u001b[1;33m \u001b[0mdata\u001b[0m\u001b[1;33m.\u001b[0m\u001b[0mshape\u001b[0m\u001b[1;33m\u001b[0m\u001b[1;33m\u001b[0m\u001b[0m\n\u001b[0m",
      "\u001b[1;31mAttributeError\u001b[0m: 'list' object has no attribute 'shape'"
     ]
    }
   ],
   "source": [
    "data"
   ]
  },
  {
   "cell_type": "code",
   "execution_count": 7,
   "metadata": {},
   "outputs": [],
   "source": [
    "data=np.asarray(data,dtype=float)\n",
    "labels=np.asarray(labels,dtype=int)\n",
    "\n",
    "#shuffling the feature vectors and labels together\n",
    "randomise=np.arange(len(data))\n",
    "np.random.shuffle(randomise)\n",
    "data=data[randomise]\n",
    "labels=labels[randomise]\n",
    "\n",
    "\n",
    "#trainand test splitting\n",
    "data_train, data_test, labels_train, labels_test = train_test_split(data, labels, test_size=0.2)"
   ]
  },
  {
   "cell_type": "code",
   "execution_count": 8,
   "metadata": {},
   "outputs": [
    {
     "data": {
      "text/plain": [
       "(666, 26)"
      ]
     },
     "execution_count": 8,
     "metadata": {},
     "output_type": "execute_result"
    }
   ],
   "source": [
    "data_train.shape"
   ]
  },
  {
   "cell_type": "code",
   "execution_count": 59,
   "metadata": {},
   "outputs": [
    {
     "name": "stdout",
     "output_type": "stream",
     "text": [
      "[[40 27]\n",
      " [21 79]]\n",
      "              precision    recall  f1-score   support\n",
      "\n",
      "           0       0.66      0.60      0.62        67\n",
      "           1       0.75      0.79      0.77       100\n",
      "\n",
      "   micro avg       0.71      0.71      0.71       167\n",
      "   macro avg       0.70      0.69      0.70       167\n",
      "weighted avg       0.71      0.71      0.71       167\n",
      "\n",
      "Accuracy :  0.7125748502994012\n"
     ]
    }
   ],
   "source": [
    "#linear SVM\n",
    "linearsvclassifier =SVC(kernel='linear')\n",
    "linearsvclassifier.fit(data_train,labels_train)\n",
    "\n",
    "labels_pred=linearsvclassifier.predict(data_test)\n",
    "\n",
    "print(confusion_matrix(labels_test,labels_pred))\n",
    "print(classification_report(labels_test,labels_pred))\n",
    "print(\"Accuracy : \",metrics.accuracy_score(labels_test,labels_pred))"
   ]
  },
  {
   "cell_type": "code",
   "execution_count": 10,
   "metadata": {},
   "outputs": [
    {
     "name": "stdout",
     "output_type": "stream",
     "text": [
      "[[ 0 70]\n",
      " [ 0 97]]\n",
      "              precision    recall  f1-score   support\n",
      "\n",
      "           0       0.00      0.00      0.00        70\n",
      "           1       0.58      1.00      0.73        97\n",
      "\n",
      "   micro avg       0.58      0.58      0.58       167\n",
      "   macro avg       0.29      0.50      0.37       167\n",
      "weighted avg       0.34      0.58      0.43       167\n",
      "\n",
      "Accuracy :  0.5808383233532934\n"
     ]
    },
    {
     "name": "stderr",
     "output_type": "stream",
     "text": [
      "C:\\Users\\Legion\\Anaconda3\\lib\\site-packages\\sklearn\\svm\\base.py:196: FutureWarning: The default value of gamma will change from 'auto' to 'scale' in version 0.22 to account better for unscaled features. Set gamma explicitly to 'auto' or 'scale' to avoid this warning.\n",
      "  \"avoid this warning.\", FutureWarning)\n",
      "C:\\Users\\Legion\\Anaconda3\\lib\\site-packages\\sklearn\\metrics\\classification.py:1143: UndefinedMetricWarning: Precision and F-score are ill-defined and being set to 0.0 in labels with no predicted samples.\n",
      "  'precision', 'predicted', average, warn_for)\n"
     ]
    }
   ],
   "source": [
    "#kernel SVM\n",
    "kernelsvclassifier =SVC(kernel='rbf')\n",
    "kernelsvclassifier.fit(data_train,labels_train)\n",
    "\n",
    "labels_pred=kernelsvclassifier.predict(data_test)\n",
    "\n",
    "print(confusion_matrix(labels_test,labels_pred))\n",
    "print(classification_report(labels_test,labels_pred))\n",
    "print(\"Accuracy : \",metrics.accuracy_score(labels_test,labels_pred))"
   ]
  },
  {
   "cell_type": "code",
   "execution_count": null,
   "metadata": {},
   "outputs": [],
   "source": []
  }
 ],
 "metadata": {
  "kernelspec": {
   "display_name": "Python 3",
   "language": "python",
   "name": "python3"
  },
  "language_info": {
   "codemirror_mode": {
    "name": "ipython",
    "version": 3
   },
   "file_extension": ".py",
   "mimetype": "text/x-python",
   "name": "python",
   "nbconvert_exporter": "python",
   "pygments_lexer": "ipython3",
   "version": "3.7.1"
  }
 },
 "nbformat": 4,
 "nbformat_minor": 2
}
