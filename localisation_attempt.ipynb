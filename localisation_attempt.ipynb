{
 "cells": [
  {
   "cell_type": "code",
   "execution_count": 1,
   "metadata": {},
   "outputs": [],
   "source": [
    "import cv2\n",
    "import numpy as np\n",
    "import matplotlib.pyplot as plt\n",
    "from imutils.object_detection import non_max_suppression"
   ]
  },
  {
   "cell_type": "code",
   "execution_count": 11,
   "metadata": {},
   "outputs": [
    {
     "data": {
      "text/plain": [
       "-1"
      ]
     },
     "execution_count": 11,
     "metadata": {},
     "output_type": "execute_result"
    }
   ],
   "source": [
    "image=cv2.imread(r'C:\\Users\\Legion\\Documents\\standard_test_images\\pirate.tif',0)\n",
    "image=cv2.resize(image,(256,256),interpolation=cv2.INTER_CUBIC)\n",
    "#otsu_binarisation\n",
    "blurred_image=cv2.GaussianBlur(image,(3,3),0)\n",
    "re,binarised_image = cv2.threshold(blurred_image,0,255,cv2.THRESH_BINARY + cv2.THRESH_OTSU)\n",
    "\n",
    "#stacked=np.hstack((image,binarised_image))\n",
    "cv2.imshow('binarised',binarised_image)\n",
    "cv2.waitKey(0)"
   ]
  },
  {
   "cell_type": "code",
   "execution_count": null,
   "metadata": {},
   "outputs": [],
   "source": [
    "rect=[]\n",
    "\n",
    "for i in range(binarised_image.shape[0]):\n",
    "    for j in range(binarised_image[1]):\n",
    "        \n",
    "        "
   ]
  }
 ],
 "metadata": {
  "kernelspec": {
   "display_name": "Python 3",
   "language": "python",
   "name": "python3"
  },
  "language_info": {
   "codemirror_mode": {
    "name": "ipython",
    "version": 3
   },
   "file_extension": ".py",
   "mimetype": "text/x-python",
   "name": "python",
   "nbconvert_exporter": "python",
   "pygments_lexer": "ipython3",
   "version": "3.7.1"
  }
 },
 "nbformat": 4,
 "nbformat_minor": 2
}
