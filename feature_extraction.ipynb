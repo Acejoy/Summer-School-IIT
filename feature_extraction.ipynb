{
 "cells": [
  {
   "cell_type": "code",
   "execution_count": 2,
   "metadata": {},
   "outputs": [],
   "source": [
    "#grey level cooccurrence matrix\n",
    "\n",
    "import matplotlib.pyplot as plt\n",
    "from skimage.feature import greycomatrix, greycoprops\n",
    "import cv2\n",
    "import numpy as np"
   ]
  },
  {
   "cell_type": "code",
   "execution_count": 22,
   "metadata": {},
   "outputs": [
    {
     "name": "stdout",
     "output_type": "stream",
     "text": [
      "(256, 256, 1, 4)\n",
      "4.0\n",
      "0.016852496148441438\n",
      "0.016852496148441438\n"
     ]
    }
   ],
   "source": [
    "image=cv2.imread(r'C:\\Users\\Legion\\Desktop\\Internship_IIT\\UCSD_Anomaly_Dataset.v1p2\\UCSDped1\\Train\\Train001\\001.tif',0)\n",
    "\n",
    "glcm_image=greycomatrix(image,[1],[0,np.pi/4,np.pi,0.75*np.pi],levels=256,symmetric=True,normed=True)\n",
    "print(glcm_image.shape)\n",
    "print(np.sum(glcm_image))\n",
    "\n",
    "contrast=np.mean(greycoprops(glcm_image,'energy'))\n",
    "print(contrast)\n",
    "print(np.mean(contrast))"
   ]
  },
  {
   "cell_type": "code",
   "execution_count": 17,
   "metadata": {},
   "outputs": [
    {
     "data": {
      "text/plain": [
       "0.01907616984437099"
      ]
     },
     "execution_count": 17,
     "metadata": {},
     "output_type": "execute_result"
    }
   ],
   "source": [
    "contrast[0][0]"
   ]
  },
  {
   "cell_type": "code",
   "execution_count": null,
   "metadata": {},
   "outputs": [],
   "source": []
  }
 ],
 "metadata": {
  "kernelspec": {
   "display_name": "Python 3",
   "language": "python",
   "name": "python3"
  },
  "language_info": {
   "codemirror_mode": {
    "name": "ipython",
    "version": 3
   },
   "file_extension": ".py",
   "mimetype": "text/x-python",
   "name": "python",
   "nbconvert_exporter": "python",
   "pygments_lexer": "ipython3",
   "version": "3.7.1"
  }
 },
 "nbformat": 4,
 "nbformat_minor": 2
}
