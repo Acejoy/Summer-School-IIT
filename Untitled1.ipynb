{
 "cells": [
  {
   "cell_type": "code",
   "execution_count": 1,
   "metadata": {},
   "outputs": [],
   "source": [
    "import cv2\n",
    "import numpy as np\n",
    "import matplotlib.pyplot as plt\n",
    "from scipy import misc"
   ]
  },
  {
   "cell_type": "code",
   "execution_count": 2,
   "metadata": {},
   "outputs": [
    {
     "data": {
      "text/plain": [
       "-1"
      ]
     },
     "execution_count": 2,
     "metadata": {},
     "output_type": "execute_result"
    }
   ],
   "source": [
    "img_gt_path = r'C:\\Users\\Legion\\Desktop\\Internship_IIT\\CMU DATASET\\I2R Dataset\\GroundTruth_including_ShoppingMall_resized\\gt_new_Curtain23233.bmp'\n",
    "img_orig_path = r'C:\\Users\\Legion\\Desktop\\Internship_IIT\\CMU DATASET\\I2R Dataset\\GroundTruth_including_ShoppingMall_resized\\Curtain23233.bmp'\n",
    "\n",
    "\n",
    "img_gt = cv2.imread(img_gt_path)\n",
    "img_orig = cv2.imread(img_orig_path)\n",
    "cv2.imshow('gt',img_gt)\n",
    "cv2.imshow('orig' ,img_orig)\n",
    "cv2.waitKey(0)"
   ]
  },
  {
   "cell_type": "code",
   "execution_count": 52,
   "metadata": {},
   "outputs": [
    {
     "data": {
      "text/plain": [
       "1159740"
      ]
     },
     "execution_count": 52,
     "metadata": {},
     "output_type": "execute_result"
    }
   ],
   "source": [
    "np.sum(img_gt)"
   ]
  },
  {
   "cell_type": "code",
   "execution_count": 4,
   "metadata": {},
   "outputs": [
    {
     "name": "stdout",
     "output_type": "stream",
     "text": [
      "(54, 29, 31, 89)\n",
      "1\n"
     ]
    }
   ],
   "source": [
    "ret,thresh = cv2.threshold(img_gt,128,255,cv2.THRESH_BINARY)\n",
    "#print(np.sum(thresh-img_gt))\n",
    "\n",
    "k=cv2.cvtColor(img_gt, cv2.COLOR_BGR2GRAY);\n",
    "\n",
    "contours, hierar = cv2.findContours(k, cv2.RETR_TREE, cv2.CHAIN_APPROX_SIMPLE)\n",
    "\n",
    "rects=[cv2.boundingRect(cnt) for cnt in contours]\n",
    "patches=[]\n",
    "for idx,rect in enumerate(rects):\n",
    "    x,y,w,h = rect\n",
    "    print(rect)\n",
    "    cv2.rectangle(img_orig, (x,y), (x+w,y+h),(0,255,0),2)\n",
    "    patches.append(img_orig[x:x+w,y:y+h])\n",
    "    font = cv2.FONT_HERSHEY_SIMPLEX\n",
    "    cv2.putText(img_orig,str(idx),(x,y), font, 1,(255,255,255),1,cv2.LINE_AA)\n",
    "    \n",
    "    \n",
    "'''    \n",
    "for idx,patch in enumerate(patches):\n",
    "    cv2.imshow('pat'+str(idx),patch)\n",
    "    cv2.waitKey(0)\n",
    "    \n",
    "'''\n",
    "print(len(patches))\n",
    "cv2.imshow('show',img_orig)\n",
    "cv2.waitKey(0)\n",
    "cv2.destroyAllWindows()"
   ]
  },
  {
   "cell_type": "code",
   "execution_count": 28,
   "metadata": {},
   "outputs": [
    {
     "data": {
      "text/plain": [
       "array([[[0, 0, 0],\n",
       "        [0, 0, 0],\n",
       "        [0, 0, 0],\n",
       "        ...,\n",
       "        [0, 0, 0],\n",
       "        [0, 0, 0],\n",
       "        [0, 0, 0]],\n",
       "\n",
       "       [[0, 0, 0],\n",
       "        [0, 0, 0],\n",
       "        [0, 0, 0],\n",
       "        ...,\n",
       "        [0, 0, 0],\n",
       "        [0, 0, 0],\n",
       "        [0, 0, 0]],\n",
       "\n",
       "       [[0, 0, 0],\n",
       "        [0, 0, 0],\n",
       "        [0, 0, 0],\n",
       "        ...,\n",
       "        [0, 0, 0],\n",
       "        [0, 0, 0],\n",
       "        [0, 0, 0]],\n",
       "\n",
       "       ...,\n",
       "\n",
       "       [[0, 0, 0],\n",
       "        [0, 0, 0],\n",
       "        [0, 0, 0],\n",
       "        ...,\n",
       "        [0, 0, 0],\n",
       "        [0, 0, 0],\n",
       "        [0, 0, 0]],\n",
       "\n",
       "       [[0, 0, 0],\n",
       "        [0, 0, 0],\n",
       "        [0, 0, 0],\n",
       "        ...,\n",
       "        [0, 0, 0],\n",
       "        [0, 0, 0],\n",
       "        [0, 0, 0]],\n",
       "\n",
       "       [[0, 0, 0],\n",
       "        [0, 0, 0],\n",
       "        [0, 0, 0],\n",
       "        ...,\n",
       "        [0, 0, 0],\n",
       "        [0, 0, 0],\n",
       "        [0, 0, 0]]], dtype=uint8)"
      ]
     },
     "execution_count": 28,
     "metadata": {},
     "output_type": "execute_result"
    }
   ],
   "source": [
    "cv2.imread(img_gt_path)"
   ]
  },
  {
   "cell_type": "code",
   "execution_count": null,
   "metadata": {},
   "outputs": [],
   "source": []
  }
 ],
 "metadata": {
  "kernelspec": {
   "display_name": "Python 3",
   "language": "python",
   "name": "python3"
  },
  "language_info": {
   "codemirror_mode": {
    "name": "ipython",
    "version": 3
   },
   "file_extension": ".py",
   "mimetype": "text/x-python",
   "name": "python",
   "nbconvert_exporter": "python",
   "pygments_lexer": "ipython3",
   "version": "3.7.1"
  }
 },
 "nbformat": 4,
 "nbformat_minor": 2
}
