{
 "cells": [
  {
   "cell_type": "code",
   "execution_count": 1,
   "metadata": {},
   "outputs": [],
   "source": [
    "import os\n",
    "import cv2\n",
    "import time\n",
    "import numpy as np\n",
    "import matplotlib.pyplot as plt"
   ]
  },
  {
   "cell_type": "code",
   "execution_count": 3,
   "metadata": {},
   "outputs": [
    {
     "name": "stdout",
     "output_type": "stream",
     "text": [
      "Enter the option :1 for KNN, 2 for MOG2:1\n",
      "Method used is MOG2\n",
      "the area limit is:30\n"
     ]
    },
    {
     "ename": "error",
     "evalue": "OpenCV(4.1.0) c:\\projects\\opencv-python\\opencv\\modules\\imgproc\\src\\color.simd_helpers.hpp:92: error: (-2:Unspecified error) in function '__cdecl cv::impl::`anonymous-namespace'::CvtHelper<struct cv::impl::`anonymous namespace'::Set<1,-1,-1>,struct cv::impl::A0xe227985e::Set<3,4,-1>,struct cv::impl::A0xe227985e::Set<0,2,5>,2>::CvtHelper(const class cv::_InputArray &,const class cv::_OutputArray &,int)'\n> Invalid number of channels in input image:\n>     'VScn::contains(scn)'\n> where\n>     'scn' is 3\n",
     "output_type": "error",
     "traceback": [
      "\u001b[1;31m---------------------------------------------------------------------------\u001b[0m",
      "\u001b[1;31merror\u001b[0m                                     Traceback (most recent call last)",
      "\u001b[1;32m<ipython-input-3-ae0cc2d65631>\u001b[0m in \u001b[0;36m<module>\u001b[1;34m\u001b[0m\n\u001b[0;32m     32\u001b[0m         \u001b[0mrect\u001b[0m \u001b[1;33m=\u001b[0m \u001b[0mcv2\u001b[0m\u001b[1;33m.\u001b[0m\u001b[0mboundingRect\u001b[0m\u001b[1;33m(\u001b[0m\u001b[0mcnt\u001b[0m\u001b[1;33m)\u001b[0m\u001b[1;33m\u001b[0m\u001b[1;33m\u001b[0m\u001b[0m\n\u001b[0;32m     33\u001b[0m         \u001b[0mx\u001b[0m\u001b[1;33m,\u001b[0m\u001b[0my\u001b[0m\u001b[1;33m,\u001b[0m\u001b[0mw\u001b[0m\u001b[1;33m,\u001b[0m\u001b[0mh\u001b[0m \u001b[1;33m=\u001b[0m \u001b[0mrect\u001b[0m\u001b[1;33m\u001b[0m\u001b[1;33m\u001b[0m\u001b[0m\n\u001b[1;32m---> 34\u001b[1;33m         \u001b[0mframe\u001b[0m \u001b[1;33m=\u001b[0m \u001b[0mcv2\u001b[0m\u001b[1;33m.\u001b[0m\u001b[0mcvtColor\u001b[0m\u001b[1;33m(\u001b[0m\u001b[0mframe\u001b[0m\u001b[1;33m,\u001b[0m\u001b[0mcv2\u001b[0m\u001b[1;33m.\u001b[0m\u001b[0mCOLOR_GRAY2BGR\u001b[0m\u001b[1;33m)\u001b[0m\u001b[1;33m\u001b[0m\u001b[1;33m\u001b[0m\u001b[0m\n\u001b[0m\u001b[0;32m     35\u001b[0m         \u001b[0mcv2\u001b[0m\u001b[1;33m.\u001b[0m\u001b[0mrectangle\u001b[0m\u001b[1;33m(\u001b[0m\u001b[0mframe\u001b[0m\u001b[1;33m,\u001b[0m\u001b[1;33m(\u001b[0m\u001b[0mx\u001b[0m\u001b[1;33m,\u001b[0m\u001b[0my\u001b[0m\u001b[1;33m)\u001b[0m\u001b[1;33m,\u001b[0m\u001b[1;33m(\u001b[0m\u001b[0mx\u001b[0m\u001b[1;33m+\u001b[0m\u001b[0mw\u001b[0m\u001b[1;33m,\u001b[0m\u001b[0my\u001b[0m\u001b[1;33m+\u001b[0m\u001b[0mh\u001b[0m\u001b[1;33m)\u001b[0m\u001b[1;33m,\u001b[0m\u001b[1;33m(\u001b[0m\u001b[1;36m0\u001b[0m\u001b[1;33m,\u001b[0m\u001b[1;36m0\u001b[0m\u001b[1;33m,\u001b[0m\u001b[1;36m255\u001b[0m\u001b[1;33m)\u001b[0m\u001b[1;33m,\u001b[0m\u001b[1;36m1\u001b[0m\u001b[1;33m)\u001b[0m\u001b[1;33m\u001b[0m\u001b[1;33m\u001b[0m\u001b[0m\n\u001b[0;32m     36\u001b[0m \u001b[1;33m\u001b[0m\u001b[0m\n",
      "\u001b[1;31merror\u001b[0m: OpenCV(4.1.0) c:\\projects\\opencv-python\\opencv\\modules\\imgproc\\src\\color.simd_helpers.hpp:92: error: (-2:Unspecified error) in function '__cdecl cv::impl::`anonymous-namespace'::CvtHelper<struct cv::impl::`anonymous namespace'::Set<1,-1,-1>,struct cv::impl::A0xe227985e::Set<3,4,-1>,struct cv::impl::A0xe227985e::Set<0,2,5>,2>::CvtHelper(const class cv::_InputArray &,const class cv::_OutputArray &,int)'\n> Invalid number of channels in input image:\n>     'VScn::contains(scn)'\n> where\n>     'scn' is 3\n"
     ]
    }
   ],
   "source": [
    "#background subtraction using knn and mog2\n",
    "#taking the ucsd pred 1 training 1 frames for display\n",
    "frameset_path = r'C:\\Users\\Legion\\Desktop\\Internship_IIT\\UCSD_Anomaly_Dataset.v1p2\\UCSDped2\\Train\\Train001'\n",
    "\n",
    "list_frames = os.listdir(frameset_path)\n",
    "\n",
    "option = input(\"Enter the option :1 for KNN, 2 for MOG2:\")\n",
    "\n",
    "if option == '1':\n",
    "    forebackground = cv2.createBackgroundSubtractorMOG2(detectShadows=True)\n",
    "    print('Method used is MOG2')\n",
    "else:\n",
    "    forebackground = cv2.createBackgroundSubtractorKNN()\n",
    "    print('Method used is KNN')\n",
    "\n",
    "area_limit ={'1':30, '2':59}\n",
    "print('the area limit is:{}'.format(area_limit[option]))\n",
    "    \n",
    "for frame_name in list_frames:\n",
    "    if frame_name in ['._.DS_Store', '.DS_Store']:\n",
    "        continue\n",
    "    \n",
    "    frame_path = os.path.join(frameset_path,frame_name) \n",
    "    frame = cv2.imread(frame_path,0)\n",
    " \n",
    "    fgmask = forebackground.apply(frame)\n",
    "    contours,hierarchies  = cv2.findContours(fgmask,cv2.RETR_TREE,cv2.CHAIN_APPROX_SIMPLE)\n",
    "    \n",
    "    for cnt in contours:\n",
    "        if cv2.contourArea(cnt)<area_limit[option]:\n",
    "            continue\n",
    "        rect = cv2.boundingRect(cnt)\n",
    "        x,y,w,h = rect\n",
    "        frame = cv2.cvtColor(frame,cv2.COLOR_GRAY2BGR)\n",
    "        cv2.rectangle(frame,(x,y),(x+w,y+h),(0,0,255),1)\n",
    "    \n",
    "    cv2.imshow('frame',frame)\n",
    "    cv2.imshow('f mask',fgmask)\n",
    "    time.sleep(0.1)\n",
    "    k = cv2.waitKey(1) & 0xFF\n",
    "    if k == ord('q'):\n",
    "        break\n",
    "        \n",
    "cv2.destroyAllWindows()"
   ]
  },
  {
   "cell_type": "code",
   "execution_count": 5,
   "metadata": {},
   "outputs": [],
   "source": [
    "#frame differencing technique for background subtraction\n",
    "\n",
    "frameset_path = r'C:\\Users\\Legion\\Desktop\\Internship_IIT\\UCSD_Anomaly_Dataset.v1p2\\UCSDped1\\Train\\Train001'\n",
    "\n",
    "list_frames = os.listdir(frameset_path)\n",
    "list_frames.remove('._.DS_Store')\n",
    "list_frames.remove('.DS_Store')\n",
    "\n",
    "ref_frame = cv2.imread(os.path.join(frameset_path,list_frames[0]),0)\n",
    "\n",
    "for frame_name in list_frames[1:]:\n",
    "    \n",
    "    frame_path = os.path.join(frameset_path,frame_name)\n",
    "    frame = cv2.imread(frame_path,0)\n",
    "    \n",
    "    diff = cv2.absdiff(frame,ref_frame)\n",
    "    \n",
    "    retval,mask = cv2.threshold(diff,0,255,cv2.THRESH_BINARY)\n",
    "    \n",
    "    cv2.imshow('mask',diff)\n",
    "    cv2.imshow('frame',frame)\n",
    "    \n",
    "    k = cv2.waitKey(0) & 0xff\n",
    "    if k == ord('q'):\n",
    "        break\n",
    "        \n",
    "cv2.destroyAllWindows()\n"
   ]
  },
  {
   "cell_type": "code",
   "execution_count": 34,
   "metadata": {},
   "outputs": [
    {
     "data": {
      "text/plain": [
       "int"
      ]
     },
     "execution_count": 34,
     "metadata": {},
     "output_type": "execute_result"
    }
   ],
   "source": [
    "type(1)"
   ]
  },
  {
   "cell_type": "code",
   "execution_count": 50,
   "metadata": {},
   "outputs": [
    {
     "name": "stdout",
     "output_type": "stream",
     "text": [
      "[1, 2, 3, 4, 5]\n",
      "[1, 4, 5]\n"
     ]
    }
   ],
   "source": [
    "l = [1,2,3,4,5]\n",
    "print(l)\n",
    "l.remove(2)\n",
    "l.remove(3)\n",
    "print(l)"
   ]
  },
  {
   "cell_type": "code",
   "execution_count": null,
   "metadata": {},
   "outputs": [],
   "source": []
  }
 ],
 "metadata": {
  "kernelspec": {
   "display_name": "Python 3",
   "language": "python",
   "name": "python3"
  },
  "language_info": {
   "codemirror_mode": {
    "name": "ipython",
    "version": 3
   },
   "file_extension": ".py",
   "mimetype": "text/x-python",
   "name": "python",
   "nbconvert_exporter": "python",
   "pygments_lexer": "ipython3",
   "version": "3.6.7"
  }
 },
 "nbformat": 4,
 "nbformat_minor": 2
}
