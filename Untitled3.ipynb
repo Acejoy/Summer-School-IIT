{
 "cells": [
  {
   "cell_type": "code",
   "execution_count": 28,
   "metadata": {},
   "outputs": [],
   "source": [
    "import os\n",
    "import cv2\n",
    "import time\n",
    "import numpy as np\n",
    "import matplotlib.pyplot as plt\n"
   ]
  },
  {
   "cell_type": "code",
   "execution_count": 37,
   "metadata": {},
   "outputs": [],
   "source": [
    "frameset_path = r'C:\\Users\\Legion\\Desktop\\Internship_IIT\\UCSD_Anomaly_Dataset.v1p2\\UCSDped2\\Test\\Test001'\n",
    "\n",
    "list_frames = os.listdir(frameset_path)\n",
    "\n",
    "if '._.DS_Store' in list_frames:\n",
    "    list_frames.remove('._.DS_Store')\n",
    "    \n",
    "if '.DS_Store' in list_frames:\n",
    "    list_frames.remove('.DS_Store')\n",
    "    \n",
    "    \n",
    "foreground_extractor = cv2.createBackgroundSubtractorKNN()\n",
    "    \n",
    "for frame_name in list_frames:\n",
    "    \n",
    "    frame_path = os.path.join(frameset_path,frame_name)\n",
    "    \n",
    "    frame = cv2.imread(frame_path,0)\n",
    "    \n",
    "    fgmask = foreground_extractor.apply(frame)\n",
    "    \n",
    "    #fgmask  = cv2.GaussianBlur(fgmask, (3,3), 0)\n",
    "    \n",
    "    contours,hierarchies = cv2.findContours(fgmask, cv2.RETR_EXTERNAL, cv2.CHAIN_APPROX_NONE)\n",
    "    \n",
    "    f = cv2.cvtColor(frame,cv2.COLOR_GRAY2BGR)\n",
    "    for cnt in contours:\n",
    "        cnt__area = cv2.contourArea(cnt)\n",
    "        if cnt__area > 20:\n",
    "            x, y, w, h = cv2.boundingRect(cnt)\n",
    "            cv2.rectangle(f, (x, y), (x+w, y+h), (0,0,255), 1)\n",
    "        \n",
    "    \n",
    "    cv2.imshow('mask', fgmask)\n",
    "    cv2.imshow('frame',f)\n",
    "    k = cv2.waitKey(1) & 0xff\n",
    "    time.sleep(0.09)\n",
    "    if k == ord('q'):\n",
    "        break\n",
    "        \n",
    "cv2.destroyAllWindows()"
   ]
  },
  {
   "cell_type": "code",
   "execution_count": null,
   "metadata": {},
   "outputs": [],
   "source": []
  },
  {
   "cell_type": "code",
   "execution_count": null,
   "metadata": {},
   "outputs": [],
   "source": []
  }
 ],
 "metadata": {
  "kernelspec": {
   "display_name": "Python 3",
   "language": "python",
   "name": "python3"
  },
  "language_info": {
   "codemirror_mode": {
    "name": "ipython",
    "version": 3
   },
   "file_extension": ".py",
   "mimetype": "text/x-python",
   "name": "python",
   "nbconvert_exporter": "python",
   "pygments_lexer": "ipython3",
   "version": "3.6.7"
  }
 },
 "nbformat": 4,
 "nbformat_minor": 2
}
