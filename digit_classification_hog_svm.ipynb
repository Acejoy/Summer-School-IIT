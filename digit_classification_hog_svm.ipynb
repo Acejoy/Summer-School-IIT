{
 "cells": [
  {
   "cell_type": "code",
   "execution_count": 27,
   "metadata": {},
   "outputs": [],
   "source": [
    "import cv2\n",
    "import numpy as np\n",
    "from sklearn.svm import SVC\n",
    "from sklearn import metrics\n",
    "from sklearn.datasets import load_digits\n",
    "import matplotlib.pyplot as plt\n",
    "from sklearn.model_selection import train_test_split\n",
    "from sklearn.metrics import classification_report,confusion_matrix\n"
   ]
  },
  {
   "cell_type": "code",
   "execution_count": 2,
   "metadata": {},
   "outputs": [],
   "source": [
    "#loading the dataset\n",
    "digits= load_digits(return_X_y=True)\n"
   ]
  },
  {
   "cell_type": "code",
   "execution_count": 13,
   "metadata": {},
   "outputs": [
    {
     "name": "stdout",
     "output_type": "stream",
     "text": [
      "0\n",
      "<class 'numpy.ndarray'>\n",
      "[[ 0  0  5 13  9  1  0  0]\n",
      " [ 0  0 13 15 10 15  5  0]\n",
      " [ 0  3 15  2  0 11  8  0]\n",
      " [ 0  4 12  0  0  8  8  0]\n",
      " [ 0  5  8  0  0  9  8  0]\n",
      " [ 0  4 11  0  1 12  7  0]\n",
      " [ 0  2 14  5 10 12  0  0]\n",
      " [ 0  0  6 13 10  0  0  0]]\n"
     ]
    },
    {
     "data": {
      "text/plain": [
       "-1"
      ]
     },
     "execution_count": 13,
     "metadata": {},
     "output_type": "execute_result"
    }
   ],
   "source": [
    "first_digit = digits[0][0]\n",
    "label = digits[1][0]\n",
    "print(label)\n",
    "first_digit = np.asarray(first_digit.reshape(8,8),dtype='uint8')\n",
    "print(type(first_digit))\n",
    "print(first_digit)\n",
    "r = cv2.resize(first_digit,(64,128))\n",
    "ret,thresh = cv2.threshold(r,6,255,cv2.THRESH_BINARY)\n",
    "cv2.imshow('d',thresh)\n",
    "cv2.waitKey(0)"
   ]
  },
  {
   "cell_type": "code",
   "execution_count": 17,
   "metadata": {},
   "outputs": [
    {
     "data": {
      "text/plain": [
       "<Figure size 432x288 with 0 Axes>"
      ]
     },
     "metadata": {},
     "output_type": "display_data"
    },
    {
     "data": {
      "image/png": "[encoded data removed]",
      "text/plain": [
       "<Figure size 288x288 with 1 Axes>"
      ]
     },
     "metadata": {
      "needs_background": "light"
     },
     "output_type": "display_data"
    }
   ],
   "source": [
    "d = load_digits()\n",
    "\n",
    "plt.gray()\n",
    "plt.matshow(d.images[0])\n",
    "plt.show()"
   ]
  },
  {
   "cell_type": "code",
   "execution_count": 18,
   "metadata": {},
   "outputs": [
    {
     "data": {
      "text/plain": [
       "{'data': array([[ 0.,  0.,  5., ...,  0.,  0.,  0.],\n",
       "        [ 0.,  0.,  0., ..., 10.,  0.,  0.],\n",
       "        [ 0.,  0.,  0., ..., 16.,  9.,  0.],\n",
       "        ...,\n",
       "        [ 0.,  0.,  1., ...,  6.,  0.,  0.],\n",
       "        [ 0.,  0.,  2., ..., 12.,  0.,  0.],\n",
       "        [ 0.,  0., 10., ..., 12.,  1.,  0.]]),\n",
       " 'target': array([0, 1, 2, ..., 8, 9, 8]),\n",
       " 'target_names': array([0, 1, 2, 3, 4, 5, 6, 7, 8, 9]),\n",
       " 'images': array([[[ 0.,  0.,  5., ...,  1.,  0.,  0.],\n",
       "         [ 0.,  0., 13., ..., 15.,  5.,  0.],\n",
       "         [ 0.,  3., 15., ..., 11.,  8.,  0.],\n",
       "         ...,\n",
       "         [ 0.,  4., 11., ..., 12.,  7.,  0.],\n",
       "         [ 0.,  2., 14., ..., 12.,  0.,  0.],\n",
       "         [ 0.,  0.,  6., ...,  0.,  0.,  0.]],\n",
       " \n",
       "        [[ 0.,  0.,  0., ...,  5.,  0.,  0.],\n",
       "         [ 0.,  0.,  0., ...,  9.,  0.,  0.],\n",
       "         [ 0.,  0.,  3., ...,  6.,  0.,  0.],\n",
       "         ...,\n",
       "         [ 0.,  0.,  1., ...,  6.,  0.,  0.],\n",
       "         [ 0.,  0.,  1., ...,  6.,  0.,  0.],\n",
       "         [ 0.,  0.,  0., ..., 10.,  0.,  0.]],\n",
       " \n",
       "        [[ 0.,  0.,  0., ..., 12.,  0.,  0.],\n",
       "         [ 0.,  0.,  3., ..., 14.,  0.,  0.],\n",
       "         [ 0.,  0.,  8., ..., 16.,  0.,  0.],\n",
       "         ...,\n",
       "         [ 0.,  9., 16., ...,  0.,  0.,  0.],\n",
       "         [ 0.,  3., 13., ..., 11.,  5.,  0.],\n",
       "         [ 0.,  0.,  0., ..., 16.,  9.,  0.]],\n",
       " \n",
       "        ...,\n",
       " \n",
       "        [[ 0.,  0.,  1., ...,  1.,  0.,  0.],\n",
       "         [ 0.,  0., 13., ...,  2.,  1.,  0.],\n",
       "         [ 0.,  0., 16., ..., 16.,  5.,  0.],\n",
       "         ...,\n",
       "         [ 0.,  0., 16., ..., 15.,  0.,  0.],\n",
       "         [ 0.,  0., 15., ..., 16.,  0.,  0.],\n",
       "         [ 0.,  0.,  2., ...,  6.,  0.,  0.]],\n",
       " \n",
       "        [[ 0.,  0.,  2., ...,  0.,  0.,  0.],\n",
       "         [ 0.,  0., 14., ..., 15.,  1.,  0.],\n",
       "         [ 0.,  4., 16., ..., 16.,  7.,  0.],\n",
       "         ...,\n",
       "         [ 0.,  0.,  0., ..., 16.,  2.,  0.],\n",
       "         [ 0.,  0.,  4., ..., 16.,  2.,  0.],\n",
       "         [ 0.,  0.,  5., ..., 12.,  0.,  0.]],\n",
       " \n",
       "        [[ 0.,  0., 10., ...,  1.,  0.,  0.],\n",
       "         [ 0.,  2., 16., ...,  1.,  0.,  0.],\n",
       "         [ 0.,  0., 15., ..., 15.,  0.,  0.],\n",
       "         ...,\n",
       "         [ 0.,  4., 16., ..., 16.,  6.,  0.],\n",
       "         [ 0.,  8., 16., ..., 16.,  8.,  0.],\n",
       "         [ 0.,  1.,  8., ..., 12.,  1.,  0.]]]),\n",
       " 'DESCR': \".. _digits_dataset:\\n\\nOptical recognition of handwritten digits dataset\\n--------------------------------------------------\\n\\n**Data Set Characteristics:**\\n\\n    :Number of Instances: 5620\\n    :Number of Attributes: 64\\n    :Attribute Information: 8x8 image of integer pixels in the range 0..16.\\n    :Missing Attribute Values: None\\n    :Creator: E. Alpaydin (alpaydin '@' boun.edu.tr)\\n    :Date: July; 1998\\n\\nThis is a copy of the test set of the UCI ML hand-written digits datasets\\nhttp://archive.ics.uci.edu/ml/datasets/Optical+Recognition+of+Handwritten+Digits\\n\\nThe data set contains images of hand-written digits: 10 classes where\\neach class refers to a digit.\\n\\nPreprocessing programs made available by NIST were used to extract\\nnormalized bitmaps of handwritten digits from a preprinted form. From a\\ntotal of 43 people, 30 contributed to the training set and different 13\\nto the test set. 32x32 bitmaps are divided into nonoverlapping blocks of\\n4x4 and the number of on pixels are counted in each block. This generates\\nan input matrix of 8x8 where each element is an integer in the range\\n0..16. This reduces dimensionality and gives invariance to small\\ndistortions.\\n\\nFor info on NIST preprocessing routines, see M. D. Garris, J. L. Blue, G.\\nT. Candela, D. L. Dimmick, J. Geist, P. J. Grother, S. A. Janet, and C.\\nL. Wilson, NIST Form-Based Handprint Recognition System, NISTIR 5469,\\n1994.\\n\\n.. topic:: References\\n\\n  - C. Kaynak (1995) Methods of Combining Multiple Classifiers and Their\\n    Applications to Handwritten Digit Recognition, MSc Thesis, Institute of\\n    Graduate Studies in Science and Engineering, Bogazici University.\\n  - E. Alpaydin, C. Kaynak (1998) Cascading Classifiers, Kybernetika.\\n  - Ken Tang and Ponnuthurai N. Suganthan and Xi Yao and A. Kai Qin.\\n    Linear dimensionalityreduction using relevance weighted LDA. School of\\n    Electrical and Electronic Engineering Nanyang Technological University.\\n    2005.\\n  - Claudio Gentile. A New Approximate Maximal Margin Classification\\n    Algorithm. NIPS. 2000.\"}"
      ]
     },
     "execution_count": 18,
     "metadata": {},
     "output_type": "execute_result"
    }
   ],
   "source": [
    "d"
   ]
  },
  {
   "cell_type": "code",
   "execution_count": 25,
   "metadata": {},
   "outputs": [
    {
     "data": {
      "text/plain": [
       "(1797,)"
      ]
     },
     "execution_count": 25,
     "metadata": {},
     "output_type": "execute_result"
    }
   ],
   "source": [
    "labels.shape"
   ]
  },
  {
   "cell_type": "code",
   "execution_count": 29,
   "metadata": {},
   "outputs": [
    {
     "name": "stdout",
     "output_type": "stream",
     "text": [
      "linsvm=======================>\n",
      "[[37  0  0  0  0  0  0  0  0  0]\n",
      " [ 0 38  0  0  0  0  0  0  0  0]\n",
      " [ 0  0 31  0  0  0  0  0  0  0]\n",
      " [ 0  0  0 35  0  0  0  0  0  0]\n",
      " [ 0  0  0  0 33  0  0  0  0  0]\n",
      " [ 0  0  0  0  0 37  0  0  0  2]\n",
      " [ 0  0  0  0  0  0 39  0  0  0]\n",
      " [ 0  0  0  0  0  0  0 42  0  0]\n",
      " [ 0  1  1  0  0  1  0  0 26  0]\n",
      " [ 0  0  0  1  1  0  0  0  0 35]]\n",
      "              precision    recall  f1-score   support\n",
      "\n",
      "           0       1.00      1.00      1.00        37\n",
      "           1       0.97      1.00      0.99        38\n",
      "           2       0.97      1.00      0.98        31\n",
      "           3       0.97      1.00      0.99        35\n",
      "           4       0.97      1.00      0.99        33\n",
      "           5       0.97      0.95      0.96        39\n",
      "           6       1.00      1.00      1.00        39\n",
      "           7       1.00      1.00      1.00        42\n",
      "           8       1.00      0.90      0.95        29\n",
      "           9       0.95      0.95      0.95        37\n",
      "\n",
      "   micro avg       0.98      0.98      0.98       360\n",
      "   macro avg       0.98      0.98      0.98       360\n",
      "weighted avg       0.98      0.98      0.98       360\n",
      "\n",
      "accuracy: 0.9805555555555555\n",
      "\n",
      "\n",
      "\n",
      "polysvm=======================>\n",
      "[[37  0  0  0  0  0  0  0  0  0]\n",
      " [ 0 38  0  0  0  0  0  0  0  0]\n",
      " [ 0  0 30  0  0  0  0  1  0  0]\n",
      " [ 0  0  0 35  0  0  0  0  0  0]\n",
      " [ 0  0  0  0 33  0  0  0  0  0]\n",
      " [ 0  0  0  0  0 37  0  0  0  2]\n",
      " [ 0  0  0  0  0  0 39  0  0  0]\n",
      " [ 0  0  0  0  0  0  0 42  0  0]\n",
      " [ 0  1  0  0  0  0  0  0 28  0]\n",
      " [ 0  0  0  1  0  0  0  0  0 36]]\n",
      "              precision    recall  f1-score   support\n",
      "\n",
      "           0       1.00      1.00      1.00        37\n",
      "           1       0.97      1.00      0.99        38\n",
      "           2       1.00      0.97      0.98        31\n",
      "           3       0.97      1.00      0.99        35\n",
      "           4       1.00      1.00      1.00        33\n",
      "           5       1.00      0.95      0.97        39\n",
      "           6       1.00      1.00      1.00        39\n",
      "           7       0.98      1.00      0.99        42\n",
      "           8       1.00      0.97      0.98        29\n",
      "           9       0.95      0.97      0.96        37\n",
      "\n",
      "   micro avg       0.99      0.99      0.99       360\n",
      "   macro avg       0.99      0.99      0.99       360\n",
      "weighted avg       0.99      0.99      0.99       360\n",
      "\n",
      "accuracy: 0.9861111111111112\n",
      "\n",
      "\n",
      "\n",
      "rbfsvm=======================>\n",
      "[[22  0  0  0  0  0  0  0 15  0]\n",
      " [ 0 21  0  0  0  0  0  0 17  0]\n",
      " [ 0  0 22  0  0  0  0  0  9  0]\n",
      " [ 0  0  0 32  0  0  0  0  3  0]\n",
      " [ 0  0  0  0 25  0  0  0  8  0]\n",
      " [ 0  0  0  0  0 20  0  0 19  0]\n",
      " [ 0  0  0  0  0  0 22  0 17  0]\n",
      " [ 0  0  0  0  0  0  0 13 29  0]\n",
      " [ 0  0  0  0  0  0  0  0 29  0]\n",
      " [ 0  0  0  0  0  0  0  0 18 19]]\n",
      "              precision    recall  f1-score   support\n",
      "\n",
      "           0       1.00      0.59      0.75        37\n",
      "           1       1.00      0.55      0.71        38\n",
      "           2       1.00      0.71      0.83        31\n",
      "           3       1.00      0.91      0.96        35\n",
      "           4       1.00      0.76      0.86        33\n",
      "           5       1.00      0.51      0.68        39\n",
      "           6       1.00      0.56      0.72        39\n",
      "           7       1.00      0.31      0.47        42\n",
      "           8       0.18      1.00      0.30        29\n",
      "           9       1.00      0.51      0.68        37\n",
      "\n",
      "   micro avg       0.62      0.62      0.62       360\n",
      "   macro avg       0.92      0.64      0.70       360\n",
      "weighted avg       0.93      0.62      0.70       360\n",
      "\n",
      "accuracy: 0.625\n",
      "\n",
      "\n",
      "\n"
     ]
    }
   ],
   "source": [
    "data = digits[0]\n",
    "labels = digits[1]\n",
    "\n",
    "#randomising the datasets\n",
    "count = data.shape[0]\n",
    "randomise = np.random.permutation(count)\n",
    "\n",
    "data = np.asarray(data)\n",
    "data = data[randomise]\n",
    "\n",
    "labels = np.asarray(labels)\n",
    "labels = labels[randomise]\n",
    "\n",
    "data_train,data_test,label_train,label_test = train_test_split(data , labels ,test_size = 0.2)\n",
    "\n",
    "linsvm = SVC(kernel='linear', gamma='auto')\n",
    "polysvm = SVC(kernel='poly', gamma='auto')\n",
    "rbfsvm = SVC(kernel='rbf', gamma='auto')\n",
    "\n",
    "functions = [linsvm,polysvm,rbfsvm]\n",
    "\n",
    "for func in functions:\n",
    "    func.fit(data_train,label_train)\n",
    "    if func == linsvm:\n",
    "        print(\"linsvm=======================>\")\n",
    "    if func == polysvm:\n",
    "        print(\"polysvm=======================>\")\n",
    "    if func == rbfsvm:\n",
    "        print(\"rbfsvm=======================>\")\n",
    "    \n",
    "    label_pred = func.predict(data_test)\n",
    "    \n",
    "    print(confusion_matrix(label_test,label_pred))\n",
    "    print(classification_report(label_test,label_pred))\n",
    "    print(\"accuracy:\",metrics.accuracy_score(label_test,label_pred))\n",
    "    print(\"\\n\\n\")\n"
   ]
  },
  {
   "cell_type": "code",
   "execution_count": null,
   "metadata": {},
   "outputs": [],
   "source": [
    "#finding the hog features and doing classifcation\n",
    "\n"
   ]
  }
 ],
 "metadata": {
  "kernelspec": {
   "display_name": "Python 3",
   "language": "python",
   "name": "python3"
  },
  "language_info": {
   "codemirror_mode": {
    "name": "ipython",
    "version": 3
   },
   "file_extension": ".py",
   "mimetype": "text/x-python",
   "name": "python",
   "nbconvert_exporter": "python",
   "pygments_lexer": "ipython3",
   "version": "3.7.1"
  }
 },
 "nbformat": 4,
 "nbformat_minor": 2
}
