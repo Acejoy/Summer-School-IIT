{
 "cells": [
  {
   "cell_type": "code",
   "execution_count": 2,
   "metadata": {},
   "outputs": [],
   "source": [
    "import os\n",
    "import cv2\n",
    "import time\n",
    "import numpy as np\n",
    "import matplotlib.pyplot as plt"
   ]
  },
  {
   "cell_type": "code",
   "execution_count": 3,
   "metadata": {},
   "outputs": [],
   "source": [
    "folder_path=r'C:\\Users\\Legion\\Desktop\\Internship_IIT\\Train001'\n",
    "\n",
    "for image_name in os.listdir(folder_path):\n",
    "    if image_name != '.DS_Store' and image_name != '._.DS_Store':\n",
    "        image_path=os.path.join(folder_path,image_name)\n",
    "        orig=cv2.imread(image_path,0)\n",
    "        edge=cv2.Canny(orig,100,200)\n",
    "        stacked=np.hstack((orig,edge))\n",
    "        cv2.imshow('edges',stacked)\n",
    "        k = cv2.waitKey(5) & 0xFF\n",
    "        if k == 27: \n",
    "            break\n",
    "        time.sleep(0.01)\n",
    "            \n",
    "            \n",
    "cv2.destroyAllWindows()  "
   ]
  },
  {
   "cell_type": "code",
   "execution_count": 10,
   "metadata": {},
   "outputs": [],
   "source": []
  },
  {
   "cell_type": "code",
   "execution_count": null,
   "metadata": {},
   "outputs": [],
   "source": []
  }
 ],
 "metadata": {
  "kernelspec": {
   "display_name": "Python 3",
   "language": "python",
   "name": "python3"
  },
  "language_info": {
   "codemirror_mode": {
    "name": "ipython",
    "version": 3
   },
   "file_extension": ".py",
   "mimetype": "text/x-python",
   "name": "python",
   "nbconvert_exporter": "python",
   "pygments_lexer": "ipython3",
   "version": "3.7.1"
  }
 },
 "nbformat": 4,
 "nbformat_minor": 2
}
