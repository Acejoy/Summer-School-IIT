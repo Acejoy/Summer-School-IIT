{
 "cells": [
  {
   "cell_type": "code",
   "execution_count": 1,
   "metadata": {},
   "outputs": [],
   "source": [
    "import numpy as np\n",
    "import cv2\n",
    "import matplotlib.pyplot as plt"
   ]
  },
  {
   "cell_type": "code",
   "execution_count": 49,
   "metadata": {},
   "outputs": [
    {
     "name": "stdout",
     "output_type": "stream",
     "text": [
      "125 292\n"
     ]
    },
    {
     "data": {
      "image/png": "[encoded data removed]",
      "text/plain": [
       "<Figure size 432x288 with 1 Axes>"
      ]
     },
     "metadata": {
      "needs_background": "light"
     },
     "output_type": "display_data"
    }
   ],
   "source": [
    "orig = cv2.imread(r'C:\\Users\\Legion\\Documents\\n2.jpg',0)\n",
    "scale = 8\n",
    "dim_x,dim_y = orig.shape\n",
    "print(dim_x//scale,dim_y//scale)\n",
    "resized_im = cv2.resize(orig,( dim_y//scale, dim_x//scale)) \n",
    "\n",
    "#calc hist\n",
    "histogram = cv2.calcHist([resized_im],[0],None,[256],[0,255])\n",
    "\n",
    "plt.plot(histogram)\n",
    "plt.show()\n"
   ]
  },
  {
   "cell_type": "code",
   "execution_count": 51,
   "metadata": {},
   "outputs": [
    {
     "data": {
      "text/plain": [
       "-1"
      ]
     },
     "execution_count": 51,
     "metadata": {},
     "output_type": "execute_result"
    }
   ],
   "source": [
    "cv2.imshow('resized',resized_im)\n",
    "cv2.waitKey(0)"
   ]
  },
  {
   "cell_type": "code",
   "execution_count": 74,
   "metadata": {},
   "outputs": [
    {
     "name": "stdout",
     "output_type": "stream",
     "text": [
      "127.0\n"
     ]
    },
    {
     "data": {
      "text/plain": [
       "-1"
      ]
     },
     "execution_count": 74,
     "metadata": {},
     "output_type": "execute_result"
    }
   ],
   "source": [
    "#threshold\n",
    "retval,thres=cv2.threshold(resized_im,127,255,cv2.THRESH_BINARY_INV)\n",
    "\n",
    "print(retval)\n",
    "\n",
    "cv2.imshow('thresholded',thres)\n",
    "cv2.waitKey(0)"
   ]
  },
  {
   "cell_type": "code",
   "execution_count": 65,
   "metadata": {},
   "outputs": [],
   "source": [
    "kernel_length = np.array(orig).shape[1]//80\n",
    "\n",
    "vertical_kernel = cv2.getStructuringElement(cv2.MORPH_RECT, (1,kernel_length))\n",
    "\n",
    "horizontal_kernel = cv2.getStructuringElement(cv2.MORPH_RECT, (kernel_length,1))\n",
    "\n",
    "kernel = cv2.getStructuringElement(cv2.MORPH_RECT, (3,3))"
   ]
  },
  {
   "cell_type": "code",
   "execution_count": 67,
   "metadata": {},
   "outputs": [
    {
     "name": "stdout",
     "output_type": "stream",
     "text": [
      "Help on built-in function erode:\n",
      "\n",
      "erode(...)\n",
      "    erode(src, kernel[, dst[, anchor[, iterations[, borderType[, borderValue]]]]]) -> dst\n",
      "    .   @brief Erodes an image by using a specific structuring element.\n",
      "    .   \n",
      "    .   The function erodes the source image using the specified structuring element that determines the\n",
      "    .   shape of a pixel neighborhood over which the minimum is taken:\n",
      "    .   \n",
      "    .   \\f[\\texttt{dst} (x,y) =  \\min _{(x',y'):  \\, \\texttt{element} (x',y') \\ne0 } \\texttt{src} (x+x',y+y')\\f]\n",
      "    .   \n",
      "    .   The function supports the in-place mode. Erosion can be applied several ( iterations ) times. In\n",
      "    .   case of multi-channel images, each channel is processed independently.\n",
      "    .   \n",
      "    .   @param src input image; the number of channels can be arbitrary, but the depth should be one of\n",
      "    .   CV_8U, CV_16U, CV_16S, CV_32F or CV_64F.\n",
      "    .   @param dst output image of the same size and type as src.\n",
      "    .   @param kernel structuring element used for erosion; if `element=Mat()`, a `3 x 3` rectangular\n",
      "    .   structuring element is used. Kernel can be created using #getStructuringElement.\n",
      "    .   @param anchor position of the anchor within the element; default value (-1, -1) means that the\n",
      "    .   anchor is at the element center.\n",
      "    .   @param iterations number of times erosion is applied.\n",
      "    .   @param borderType pixel extrapolation method, see #BorderTypes\n",
      "    .   @param borderValue border value in case of a constant border\n",
      "    .   @sa  dilate, morphologyEx, getStructuringElement\n",
      "\n"
     ]
    }
   ],
   "source": [
    "help(cv2.erode)\n"
   ]
  },
  {
   "cell_type": "code",
   "execution_count": 69,
   "metadata": {},
   "outputs": [
    {
     "data": {
      "text/plain": [
       "-1"
      ]
     },
     "execution_count": 69,
     "metadata": {},
     "output_type": "execute_result"
    }
   ],
   "source": [
    "img_temp1 = cv2.erode(thres, vertical_kernel, iterations=3)\n",
    "verticle_lines = cv2.dilate(img_temp1, vertical_kernel, iterations=3)\n",
    "\n",
    "cv2.imshow('verticle',verticle_lines)\n",
    "cv2.waitKey(0)"
   ]
  },
  {
   "cell_type": "code",
   "execution_count": 77,
   "metadata": {},
   "outputs": [
    {
     "data": {
      "text/plain": [
       "-1"
      ]
     },
     "execution_count": 77,
     "metadata": {},
     "output_type": "execute_result"
    }
   ],
   "source": [
    "img_temp2 = cv2.erode(thres, horizontal_kernel, iterations=2)\n",
    "horizontal_lines = cv2.dilate(img_temp2, horizontal_kernel, iterations=20)\n",
    "\n",
    "cv2.imshow('horizontal',horizontal_lines)\n",
    "cv2.waitKey(0)"
   ]
  },
  {
   "cell_type": "code",
   "execution_count": 80,
   "metadata": {},
   "outputs": [
    {
     "data": {
      "text/plain": [
       "-1"
      ]
     },
     "execution_count": 80,
     "metadata": {},
     "output_type": "execute_result"
    }
   ],
   "source": [
    "alpha = 0.5\n",
    "beta = 1-alpha\n",
    "\n",
    "img_final_bin = cv2.addWeighted(verticle_lines, alpha, horizontal_lines, beta,0.0)\n",
    "img_final_bin = cv2.erode(~img_final_bin, kernel, iterations=2)\n",
    "(thresh, img_final_bin) = cv2.threshold(img_final_bin, 128,  255,\n",
    "                                        cv2.THRESH_BINARY+cv2.THRESH_OTSU)\n",
    "\n",
    "cv2.imshow('wat up',img_final_bin)\n",
    "cv2.waitKey(0)"
   ]
  },
  {
   "cell_type": "code",
   "execution_count": 78,
   "metadata": {},
   "outputs": [
    {
     "name": "stdout",
     "output_type": "stream",
     "text": [
      "Help on built-in function addWeighted:\n",
      "\n",
      "addWeighted(...)\n",
      "    addWeighted(src1, alpha, src2, beta, gamma[, dst[, dtype]]) -> dst\n",
      "    .   @brief Calculates the weighted sum of two arrays.\n",
      "    .   \n",
      "    .   The function addWeighted calculates the weighted sum of two arrays as follows:\n",
      "    .   \\f[\\texttt{dst} (I)= \\texttt{saturate} ( \\texttt{src1} (I)* \\texttt{alpha} +  \\texttt{src2} (I)* \\texttt{beta} +  \\texttt{gamma} )\\f]\n",
      "    .   where I is a multi-dimensional index of array elements. In case of multi-channel arrays, each\n",
      "    .   channel is processed independently.\n",
      "    .   The function can be replaced with a matrix expression:\n",
      "    .   @code{.cpp}\n",
      "    .   dst = src1*alpha + src2*beta + gamma;\n",
      "    .   @endcode\n",
      "    .   @note Saturation is not applied when the output array has the depth CV_32S. You may even get\n",
      "    .   result of an incorrect sign in the case of overflow.\n",
      "    .   @param src1 first input array.\n",
      "    .   @param alpha weight of the first array elements.\n",
      "    .   @param src2 second input array of the same size and channel number as src1.\n",
      "    .   @param beta weight of the second array elements.\n",
      "    .   @param gamma scalar added to each sum.\n",
      "    .   @param dst output array that has the same size and number of channels as the input arrays.\n",
      "    .   @param dtype optional depth of the output array; when both input arrays have the same depth, dtype\n",
      "    .   can be set to -1, which will be equivalent to src1.depth().\n",
      "    .   @sa  add, subtract, scaleAdd, Mat::convertTo\n",
      "\n"
     ]
    }
   ],
   "source": [
    "help(cv2.addWeighted)"
   ]
  },
  {
   "cell_type": "code",
   "execution_count": 81,
   "metadata": {},
   "outputs": [
    {
     "ename": "ModuleNotFoundError",
     "evalue": "No module named 'pyimagesearch'",
     "output_type": "error",
     "traceback": [
      "\u001b[1;31m---------------------------------------------------------------------------\u001b[0m",
      "\u001b[1;31mModuleNotFoundError\u001b[0m                       Traceback (most recent call last)",
      "\u001b[1;32m<ipython-input-81-4e2b668791bf>\u001b[0m in \u001b[0;36m<module>\u001b[1;34m\u001b[0m\n\u001b[1;32m----> 1\u001b[1;33m \u001b[1;32mfrom\u001b[0m \u001b[0mpyimagesearch\u001b[0m\u001b[1;33m.\u001b[0m\u001b[0mtransform\u001b[0m \u001b[1;32mimport\u001b[0m \u001b[0mfour_point_transform\u001b[0m\u001b[1;33m\u001b[0m\u001b[1;33m\u001b[0m\u001b[0m\n\u001b[0m",
      "\u001b[1;31mModuleNotFoundError\u001b[0m: No module named 'pyimagesearch'"
     ]
    }
   ],
   "source": [
    "from pyimagesearch.transform import four_point_transform"
   ]
  },
  {
   "cell_type": "code",
   "execution_count": null,
   "metadata": {},
   "outputs": [],
   "source": []
  }
 ],
 "metadata": {
  "kernelspec": {
   "display_name": "Python 3",
   "language": "python",
   "name": "python3"
  },
  "language_info": {
   "codemirror_mode": {
    "name": "ipython",
    "version": 3
   },
   "file_extension": ".py",
   "mimetype": "text/x-python",
   "name": "python",
   "nbconvert_exporter": "python",
   "pygments_lexer": "ipython3",
   "version": "3.7.1"
  }
 },
 "nbformat": 4,
 "nbformat_minor": 2
}
