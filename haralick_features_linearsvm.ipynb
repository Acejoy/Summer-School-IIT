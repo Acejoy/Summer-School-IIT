{
 "cells": [
  {
   "cell_type": "code",
   "execution_count": 6,
   "metadata": {},
   "outputs": [],
   "source": [
    "import re\n",
    "import cv2\n",
    "import numpy as np\n",
    "import os\n",
    "import glob\n",
    "import mahotas as mt\n",
    "from scipy import misc\n",
    "from sklearn import metrics\n",
    "from sklearn.svm import LinearSVC\n",
    "from sklearn.model_selection import train_test_split\n",
    "from sklearn.metrics import classification_report,confusion_matrix"
   ]
  },
  {
   "cell_type": "code",
   "execution_count": 2,
   "metadata": {},
   "outputs": [
    {
     "name": "stderr",
     "output_type": "stream",
     "text": [
      "C:\\Users\\Legion\\Anaconda3\\lib\\site-packages\\ipykernel_launcher.py:13: DeprecationWarning: `imread` is deprecated!\n",
      "`imread` is deprecated in SciPy 1.0.0, and will be removed in 1.2.0.\n",
      "Use ``imageio.imread`` instead.\n",
      "  del sys.path[0]\n"
     ]
    }
   ],
   "source": [
    "X=[]\n",
    "Y=[]\n",
    "\n",
    "\n",
    "\n",
    "main_folder_path=r'C:\\Users\\Legion\\Desktop\\Internship_IIT\\GRAZ'\n",
    "segments=[r'bikes\\bikes',r'persons\\persons']\n",
    "\n",
    "for seg in segments:\n",
    "    absolute_path=os.path.join(main_folder_path,seg)\n",
    "    \n",
    "    for image_name in os.listdir(absolute_path):\n",
    "        original__grey_image=misc.imread(os.path.join(absolute_path,image_name),mode='L')\n",
    "        \n",
    "        z=re.match(\"^bike.\",image_name)\n",
    "        if z:\n",
    "            Y.append(0)\n",
    "        else:\n",
    "            Y.append(1)\n",
    "            \n",
    "            \n",
    "        textures=mt.features.haralick(original__grey_image)\n",
    "        ht_mean= textures.mean(axis=0)\n",
    "        \n",
    "        X.append(ht_mean)\n",
    "        \n",
    "X=np.asarray(X,dtype=float)\n",
    "Y=np.asarray(Y,dtype=int)"
   ]
  },
  {
   "cell_type": "code",
   "execution_count": 3,
   "metadata": {},
   "outputs": [],
   "source": [
    "#shuffling the feature vectors and labels together\n",
    "randomise=np.arange(len(X))\n",
    "np.random.shuffle(randomise)\n",
    "X=X[randomise]\n",
    "Y=Y[randomise]\n",
    "\n",
    "\n",
    "#trainand test splitting\n",
    "X_train, X_test, Y_train, Y_test = train_test_split(X, Y, test_size=0.2)"
   ]
  },
  {
   "cell_type": "code",
   "execution_count": 4,
   "metadata": {},
   "outputs": [
    {
     "name": "stdout",
     "output_type": "stream",
     "text": [
      "[[39 44]\n",
      " [17 67]]\n",
      "              precision    recall  f1-score   support\n",
      "\n",
      "           0       0.70      0.47      0.56        83\n",
      "           1       0.60      0.80      0.69        84\n",
      "\n",
      "   micro avg       0.63      0.63      0.63       167\n",
      "   macro avg       0.65      0.63      0.62       167\n",
      "weighted avg       0.65      0.63      0.62       167\n",
      "\n"
     ]
    },
    {
     "name": "stderr",
     "output_type": "stream",
     "text": [
      "C:\\Users\\Legion\\Anaconda3\\lib\\site-packages\\sklearn\\svm\\base.py:922: ConvergenceWarning: Liblinear failed to converge, increase the number of iterations.\n",
      "  \"the number of iterations.\", ConvergenceWarning)\n"
     ]
    }
   ],
   "source": [
    "clf_svm=LinearSVC(random_state=9)\n",
    "\n",
    "clf_svm.fit(X_train,Y_train)\n",
    "\n",
    "Y_pred=clf_svm.predict(X_test)\n",
    "print(confusion_matrix(Y_test,Y_pred))\n",
    "print(classification_report(Y_test,Y_pred))"
   ]
  },
  {
   "cell_type": "code",
   "execution_count": 7,
   "metadata": {},
   "outputs": [
    {
     "name": "stdout",
     "output_type": "stream",
     "text": [
      "Accuracy :  0.6347305389221557\n"
     ]
    }
   ],
   "source": [
    "print(\"Accuracy : \",metrics.accuracy_score(Y_test,Y_pred))"
   ]
  },
  {
   "cell_type": "code",
   "execution_count": null,
   "metadata": {},
   "outputs": [],
   "source": []
  }
 ],
 "metadata": {
  "kernelspec": {
   "display_name": "Python 3",
   "language": "python",
   "name": "python3"
  },
  "language_info": {
   "codemirror_mode": {
    "name": "ipython",
    "version": 3
   },
   "file_extension": ".py",
   "mimetype": "text/x-python",
   "name": "python",
   "nbconvert_exporter": "python",
   "pygments_lexer": "ipython3",
   "version": "3.7.1"
  }
 },
 "nbformat": 4,
 "nbformat_minor": 2
}
